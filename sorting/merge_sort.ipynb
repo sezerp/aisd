{
 "cells": [
  {
   "cell_type": "markdown",
   "source": [
    "## Merge sort"
   ],
   "metadata": {
    "collapsed": false
   }
  },
  {
   "cell_type": "code",
   "execution_count": 146,
   "outputs": [],
   "source": [
    "\n",
    "\n",
    "def merge_sor_rec(xs: list):\n",
    "    def merge(ys: list, zs: list) -> list:\n",
    "        yl = len(ys)\n",
    "        zl = len(zs)\n",
    "        result = [0] * (yl + zl)\n",
    "        p = q = i = 0\n",
    "\n",
    "        while p < yl and q < zl:\n",
    "            if ys[p] <= zs[q]:\n",
    "                result[i] = ys[p]\n",
    "                p += 1\n",
    "            else:\n",
    "                result[i] = zs[q]\n",
    "                q += 1\n",
    "            i += 1\n",
    "\n",
    "        while p < yl:\n",
    "            result[i] = ys[p]\n",
    "            p += 1\n",
    "            i += 1\n",
    "\n",
    "        while q < zl:\n",
    "            result[i] = zs[q]\n",
    "            q += 1\n",
    "            i += 1\n",
    "\n",
    "        return result\n",
    "\n",
    "    l = len(xs)\n",
    "    if l == 1:\n",
    "        return xs\n",
    "\n",
    "    h_1 = l // 2\n",
    "    p1 = xs[0:h_1]\n",
    "    p2 = xs[h_1:l]\n",
    "    sorted_1 = merge_sor_rec(p1)\n",
    "    sorted_2 = merge_sor_rec(p2)\n",
    "\n",
    "    return merge(sorted_1, sorted_2)"
   ],
   "metadata": {
    "collapsed": false
   }
  },
  {
   "cell_type": "code",
   "execution_count": 147,
   "outputs": [
    {
     "data": {
      "text/plain": "[1, 2, 3, 4, 5]"
     },
     "execution_count": 147,
     "metadata": {},
     "output_type": "execute_result"
    }
   ],
   "source": [
    "xs = [5,4,3,2,1]\n",
    "ys = [4,3,2,1]\n",
    "\n",
    "# ys[0:len(ys)//2]\n",
    "merge_sor_rec(xs)"
   ],
   "metadata": {
    "collapsed": false
   }
  },
  {
   "cell_type": "code",
   "execution_count": 16,
   "outputs": [
    {
     "name": "stdout",
     "output_type": "stream",
     "text": [
      "done\n"
     ]
    }
   ],
   "source": [
    "def merge_sort(xs: list):\n",
    "    i, p, q = 0\n",
    "    stack = []\n",
    "    pl = len(xs) // 2\n",
    "    L = xs[0:pl]\n",
    "    R = xs[pl:len(xs)]\n",
    "    while stack:\n",
    "        pass\n",
    "\n",
    "    return xs"
   ],
   "metadata": {
    "collapsed": false
   }
  },
  {
   "cell_type": "code",
   "execution_count": 37,
   "outputs": [
    {
     "data": {
      "text/plain": "[1, 1, 1, 1, 1]"
     },
     "execution_count": 37,
     "metadata": {},
     "output_type": "execute_result"
    }
   ],
   "source": [
    "[1] * 5"
   ],
   "metadata": {
    "collapsed": false
   }
  },
  {
   "cell_type": "code",
   "execution_count": 40,
   "outputs": [
    {
     "data": {
      "text/plain": "3"
     },
     "execution_count": 40,
     "metadata": {},
     "output_type": "execute_result"
    }
   ],
   "source": [
    "[1,2,3][-1]"
   ],
   "metadata": {
    "collapsed": false
   }
  },
  {
   "cell_type": "code",
   "execution_count": null,
   "outputs": [],
   "source": [
    "# def merge_sor_rec(xs: list):\n",
    "#     def merge(ys: list, zs: list) -> list:\n",
    "#         yl = len(ys)\n",
    "#         zl = len(zs)\n",
    "#         L = min(yl, zl)\n",
    "#         result = [0] * (yl + zl)\n",
    "#         p = 0\n",
    "#         q = 0\n",
    "#         for i in range(L):\n",
    "#             if ys[q] <= zs[p]:\n",
    "#                 result[i] = ys[q]\n",
    "#                 q += 1\n",
    "#             else:\n",
    "#                 result[i] = zs[p]\n",
    "#                 p += 1\n",
    "#\n",
    "#         for i in range(max(yl, zl) - min(p, q)):\n",
    "#             if q >= len(ys):\n",
    "#                 result[i + L] = zs[p]\n",
    "#                 p += 1\n",
    "#             else:\n",
    "#                 result[i + L] = ys[q]\n",
    "#                 q += 1\n",
    "#\n",
    "#         return result\n",
    "#\n",
    "#     l = len(xs)\n",
    "#     if l == 1:\n",
    "#         return xs\n",
    "#\n",
    "#     h_1 = l // 2\n",
    "#     p1 = xs[0:h_1]\n",
    "#     p2 = xs[h_1:l]\n",
    "#     sorted_1 = merge_sor_rec(p1)\n",
    "#     sorted_2 = merge_sor_rec(p2)\n",
    "#\n",
    "#     return merge(sorted_1, sorted_2)"
   ],
   "metadata": {
    "collapsed": false
   }
  }
 ],
 "metadata": {
  "kernelspec": {
   "display_name": "Python 3",
   "language": "python",
   "name": "python3"
  },
  "language_info": {
   "codemirror_mode": {
    "name": "ipython",
    "version": 2
   },
   "file_extension": ".py",
   "mimetype": "text/x-python",
   "name": "python",
   "nbconvert_exporter": "python",
   "pygments_lexer": "ipython2",
   "version": "2.7.6"
  }
 },
 "nbformat": 4,
 "nbformat_minor": 0
}
