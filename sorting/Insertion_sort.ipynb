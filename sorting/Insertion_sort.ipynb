{
 "cells": [
  {
   "cell_type": "markdown",
   "source": [
    "## Insertion sort"
   ],
   "metadata": {
    "collapsed": false
   }
  },
  {
   "cell_type": "code",
   "execution_count": 1,
   "outputs": [],
   "source": [
    "def sort(xs: list):\n",
    "    for i in range(1, len(xs)):\n",
    "        v = xs[i]\n",
    "        j = i - 1\n",
    "        while j >= 0 and xs[j] > v:\n",
    "            tmp = xs[j + 1]\n",
    "            xs[j + 1] = xs[j]\n",
    "            xs[j] = tmp\n",
    "            j -= 1"
   ],
   "metadata": {
    "collapsed": false
   }
  },
  {
   "cell_type": "code",
   "execution_count": 2,
   "outputs": [
    {
     "data": {
      "text/plain": "[1, 2, 3, 3, 4, 5, 12]"
     },
     "execution_count": 2,
     "metadata": {},
     "output_type": "execute_result"
    }
   ],
   "source": [
    "xs = [5,4,3,3,12,2,1]\n",
    "# [4, 5, 3, 3, 12, 2, 1]\n",
    "# [3, 4, 5, 3, 12, 2, 1]\n",
    "# [3, 3, 4, 5, 12, 2, 1]\n",
    "# [3, 3, 4, 5, 12, 2, 1]\n",
    "# [2, 3, 3, 4, 5, 12, 1]\n",
    "# [1, 2, 3, 3, 4, 5, 12]\n",
    "sort(xs)\n",
    "\n",
    "xs"
   ],
   "metadata": {
    "collapsed": false
   }
  },
  {
   "cell_type": "code",
   "execution_count": null,
   "outputs": [],
   "source": [],
   "metadata": {
    "collapsed": false
   }
  }
 ],
 "metadata": {
  "kernelspec": {
   "display_name": "Python 3",
   "language": "python",
   "name": "python3"
  },
  "language_info": {
   "codemirror_mode": {
    "name": "ipython",
    "version": 2
   },
   "file_extension": ".py",
   "mimetype": "text/x-python",
   "name": "python",
   "nbconvert_exporter": "python",
   "pygments_lexer": "ipython2",
   "version": "2.7.6"
  }
 },
 "nbformat": 4,
 "nbformat_minor": 0
}
