{
 "cells": [
  {
   "cell_type": "markdown",
   "source": [
    "## Heap sort"
   ],
   "metadata": {
    "collapsed": false
   }
  },
  {
   "cell_type": "code",
   "execution_count": 49,
   "outputs": [],
   "source": [
    "def max_heapify(A: list, i: int):\n",
    "    l = 2 * i\n",
    "    r = l + 1\n",
    "    a_len = len(A)\n",
    "    if l <= a_len and A[l-1] > A[i-1]:\n",
    "        largest = l\n",
    "    else:\n",
    "        largest = i\n",
    "    if r <= a_len and A[r-1] > A[largest-1]:\n",
    "        largest = r\n",
    "    if largest != i:\n",
    "        tmp = A[largest-1]\n",
    "        A[largest-1] = A[i-1]\n",
    "        A[i-1] = tmp\n",
    "        max_heapify(A, largest)"
   ],
   "metadata": {
    "collapsed": false
   }
  },
  {
   "cell_type": "code",
   "execution_count": 50,
   "outputs": [],
   "source": [
    "a = [27, 17, 3, 16, 13, 10, 1, 5, 7, 12, 4, 8, 9, 0]\n",
    "max_heapify(a, 3)"
   ],
   "metadata": {
    "collapsed": false
   }
  },
  {
   "cell_type": "code",
   "execution_count": 51,
   "outputs": [
    {
     "data": {
      "text/plain": "[27, 17, 10, 16, 13, 9, 1, 5, 7, 12, 4, 8, 3, 0]"
     },
     "execution_count": 51,
     "metadata": {},
     "output_type": "execute_result"
    }
   ],
   "source": [
    "a"
   ],
   "metadata": {
    "collapsed": false
   }
  },
  {
   "cell_type": "code",
   "execution_count": null,
   "outputs": [],
   "source": [
    "# [27, 17, 3, 16, 13, 10, 1, 5, 7, 12, 4, 8, 9, 0]\n",
    "# [27, 17, 10, 16, 13, 9, 1, 5, 7, 12, 4, 8, 3, 0]"
   ],
   "metadata": {
    "collapsed": false
   }
  }
 ],
 "metadata": {
  "kernelspec": {
   "display_name": "Python 3",
   "language": "python",
   "name": "python3"
  },
  "language_info": {
   "codemirror_mode": {
    "name": "ipython",
    "version": 2
   },
   "file_extension": ".py",
   "mimetype": "text/x-python",
   "name": "python",
   "nbconvert_exporter": "python",
   "pygments_lexer": "ipython2",
   "version": "2.7.6"
  }
 },
 "nbformat": 4,
 "nbformat_minor": 0
}
