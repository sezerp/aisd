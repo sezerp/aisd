{
 "cells": [
  {
   "cell_type": "markdown",
   "source": [
    "## Binary search"
   ],
   "metadata": {
    "collapsed": false
   }
  },
  {
   "cell_type": "code",
   "execution_count": 24,
   "outputs": [],
   "source": [
    "def binary_search(arr: list, v):\n",
    "    l = 0\n",
    "    r = len(arr) - 1\n",
    "    while l <= r:\n",
    "        mid = l + (r - l) // 2\n",
    "        if arr[mid] == v:\n",
    "            return mid\n",
    "        elif arr[mid] < v:\n",
    "            l = mid + 1\n",
    "        else:\n",
    "            r = mid - 1\n",
    "\n",
    "    return -1"
   ],
   "metadata": {
    "collapsed": false
   }
  },
  {
   "cell_type": "code",
   "execution_count": 25,
   "outputs": [
    {
     "data": {
      "text/plain": "-1"
     },
     "execution_count": 25,
     "metadata": {},
     "output_type": "execute_result"
    }
   ],
   "source": [
    "binary_search([1,2,3,4,6,7,8], 40)"
   ],
   "metadata": {
    "collapsed": false
   }
  },
  {
   "cell_type": "code",
   "execution_count": 21,
   "outputs": [],
   "source": [
    "def is_square(v: int):\n",
    "    if v == 1:\n",
    "        return True\n",
    "    m = v\n",
    "    while m > 0:\n",
    "        m = m // 2\n",
    "        ans = m * m\n",
    "        if ans == v:\n",
    "            return True\n",
    "        if ans < v:\n",
    "            return False\n",
    "\n",
    "    return False\n"
   ],
   "metadata": {
    "collapsed": false
   }
  },
  {
   "cell_type": "code",
   "execution_count": 22,
   "outputs": [
    {
     "name": "stdout",
     "output_type": "stream",
     "text": [
      "True\n",
      "False\n",
      "True\n"
     ]
    }
   ],
   "source": [
    "print(is_square(16))\n",
    "print(is_square(20))\n",
    "print(is_square(1))"
   ],
   "metadata": {
    "collapsed": false
   }
  },
  {
   "cell_type": "code",
   "execution_count": 32,
   "outputs": [],
   "source": [
    "def find_lowest_upper_bound(arr: list, v):\n",
    "    ans = (-1, None)\n",
    "    l = 0\n",
    "    r = len(arr) - 1\n",
    "    cnt = 0\n",
    "    while l <= r:\n",
    "        cnt += 1\n",
    "        mid = l + (r - l) // 2\n",
    "        if arr[mid] >= v:\n",
    "            ans = (mid, arr[mid])\n",
    "            r = mid - 1\n",
    "        else:\n",
    "            l = mid + 1\n",
    "\n",
    "    return ans"
   ],
   "metadata": {
    "collapsed": false
   }
  },
  {
   "cell_type": "code",
   "execution_count": 34,
   "outputs": [
    {
     "data": {
      "text/plain": "(0, 2)"
     },
     "execution_count": 34,
     "metadata": {},
     "output_type": "execute_result"
    }
   ],
   "source": [
    "find_lowest_upper_bound([2,3,5,6,8,10,12], 2)"
   ],
   "metadata": {
    "collapsed": false
   }
  },
  {
   "cell_type": "code",
   "execution_count": null,
   "outputs": [],
   "source": [
    "def rotated_array(arr: list):\n",
    "    l = 0\n",
    "    r = len(arr) - 1\n",
    "    while l <= r:\n"
   ],
   "metadata": {
    "collapsed": false
   }
  },
  {
   "cell_type": "code",
   "execution_count": 6,
   "outputs": [],
   "source": [
    "def find_sqrt(x: float, e: float):\n",
    "    l = 0\n",
    "    r = x\n",
    "    cnt = 0\n",
    "    while r - l > e:\n",
    "        mid = l + (r - l) / 2\n",
    "        y = mid * mid\n",
    "        cnt += 1\n",
    "        if y < x:\n",
    "            l = mid\n",
    "        else:\n",
    "            r = mid\n",
    "    print(cnt)\n",
    "    return l + (r - l) / 2"
   ],
   "metadata": {
    "collapsed": false
   }
  },
  {
   "cell_type": "code",
   "execution_count": 7,
   "outputs": [
    {
     "name": "stdout",
     "output_type": "stream",
     "text": [
      "15\n"
     ]
    },
    {
     "data": {
      "text/plain": "1.414215087890625"
     },
     "execution_count": 7,
     "metadata": {},
     "output_type": "execute_result"
    }
   ],
   "source": [
    "find_sqrt(2, 0.0001)"
   ],
   "metadata": {
    "collapsed": false
   }
  },
  {
   "cell_type": "code",
   "execution_count": null,
   "outputs": [],
   "source": [],
   "metadata": {
    "collapsed": false
   }
  }
 ],
 "metadata": {
  "kernelspec": {
   "display_name": "Python 3",
   "language": "python",
   "name": "python3"
  },
  "language_info": {
   "codemirror_mode": {
    "name": "ipython",
    "version": 2
   },
   "file_extension": ".py",
   "mimetype": "text/x-python",
   "name": "python",
   "nbconvert_exporter": "python",
   "pygments_lexer": "ipython2",
   "version": "2.7.6"
  }
 },
 "nbformat": 4,
 "nbformat_minor": 0
}
