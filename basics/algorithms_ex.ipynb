{
 "cells": [
  {
   "cell_type": "markdown",
   "source": [
    "# Graph representations"
   ],
   "metadata": {
    "collapsed": false
   }
  },
  {
   "cell_type": "markdown",
   "source": [
    "The graph can be represented as:\n",
    " - adjacency matrix\n",
    "  - adjacency list"
   ],
   "metadata": {
    "collapsed": false
   }
  },
  {
   "cell_type": "markdown",
   "source": [
    "### Adjacency matrix\n",
    "\n",
    "Use the matrix to represents a graph. Adjacency matrix is the simplest way.\n",
    "Complexity:\n",
    "\n",
    "| Name               | Complexity |\n",
    "|--------------------|----------|\n",
    "| add edge           | O(1)     |\n",
    "| remove edge        | O(1)     |\n",
    "| add vertex         | O(V^2)   |\n",
    "| get all neighbours | O(V)     |\n",
    "\n",
    "Additionally, the space complexity is V^2"
   ],
   "metadata": {
    "collapsed": false
   }
  },
  {
   "cell_type": "code",
   "execution_count": null,
   "outputs": [],
   "source": [
    "M = [\n",
    "    [0, 1, 0, 0, 0],\n",
    "    [0, 0, 1, 0, 0],\n",
    "    [0, 0, 0, 0, 0],\n",
    "    [1, 0, 1, 0, 0],\n",
    "    [0, 1, 0, 0, 0],\n",
    "]\n",
    "M"
   ],
   "metadata": {
    "collapsed": false
   }
  },
  {
   "cell_type": "markdown",
   "source": [
    "#### Adjacency list\n",
    "\n",
    "This structure is slightly more complex than adjacency matrix.\n",
    "Complexity:\n",
    "\n",
    "| Name               | Complexity |\n",
    "|--------------------|------------|\n",
    "| add edge           | O(1)       |\n",
    "| remove edge        | O(V)       |\n",
    "| add vertex         | O(1)       |\n",
    "| remove vertex      | O(E)       |\n",
    "| get all neighbours | O(1)       |\n",
    "\n",
    "Space complexity is O(V + E)"
   ],
   "metadata": {
    "collapsed": false
   }
  },
  {
   "cell_type": "markdown",
   "source": [
    "Both adjacency matrix and list represents the same graph G:\n",
    "\n",
    "\n",
    "![graph](./resources/adjacent_matrix_graph_1.png)"
   ],
   "metadata": {
    "collapsed": false
   }
  }
 ],
 "metadata": {
  "kernelspec": {
   "display_name": "Python 3",
   "language": "python",
   "name": "python3"
  },
  "language_info": {
   "codemirror_mode": {
    "name": "ipython",
    "version": 2
   },
   "file_extension": ".py",
   "mimetype": "text/x-python",
   "name": "python",
   "nbconvert_exporter": "python",
   "pygments_lexer": "ipython2",
   "version": "2.7.6"
  }
 },
 "nbformat": 4,
 "nbformat_minor": 0
}
