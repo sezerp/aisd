{
 "cells": [
  {
   "cell_type": "code",
   "execution_count": 1,
   "metadata": {
    "collapsed": true
   },
   "outputs": [],
   "source": [
    "def has_cycle(graph: dict):\n",
    "    if len(graph) == 0:\n",
    "        return []\n",
    "    visited = set([])\n",
    "    parent = None\n",
    "\n",
    "    for u in graph:\n",
    "        if u not in visited:\n",
    "            stack = [u]\n",
    "            parent = u\n",
    "            while stack:\n",
    "                s = stack.pop()\n",
    "                visited.add(s)\n",
    "                for n in graph[s]:\n",
    "                    if n not in visited:\n",
    "                        stack.append(n)\n",
    "                        visited.add(n)\n",
    "                        parent = s\n",
    "                    elif parent != n:\n",
    "                        return True\n",
    "\n",
    "    return False\n",
    "\n",
    "def has_cycle_connected_graph(graph: dict):\n",
    "    if len(graph) == 0:\n",
    "        return []\n",
    "    start = next(iter(graph))\n",
    "    stack = [start]\n",
    "    visited = {start}\n",
    "    parent = start\n",
    "\n",
    "    while stack:\n",
    "        s = stack.pop()\n",
    "        visited.add(s)\n",
    "        for n in graph[s]:\n",
    "            if n not in visited:\n",
    "                stack.append(n)\n",
    "                visited.add(n)\n",
    "                parent = s\n",
    "            elif parent != n:\n",
    "                return True\n",
    "\n",
    "    return False"
   ]
  },
  {
   "cell_type": "code",
   "execution_count": 2,
   "outputs": [
    {
     "name": "stdout",
     "output_type": "stream",
     "text": [
      "True\n",
      "False\n",
      "True\n",
      "False\n"
     ]
    }
   ],
   "source": [
    "graph = {}\n",
    "graph['a'] = ['b', 'c']\n",
    "graph['b'] = ['a', 'd']\n",
    "graph['c'] = ['a', 'd']\n",
    "graph['d'] = ['b', 'c', 'e']\n",
    "graph['e'] = ['d']\n",
    "\n",
    "graph2 = {}\n",
    "graph2['a'] = ['b', 'c']\n",
    "graph2['b'] = ['a', 'd']\n",
    "graph2['c'] = ['a']\n",
    "graph2['d'] = ['e']\n",
    "graph2['e'] = []\n",
    "\n",
    "\n",
    "print(has_cycle_connected_graph(graph))\n",
    "print(has_cycle_connected_graph(graph2))\n",
    "\n",
    "print(has_cycle(graph))\n",
    "print(has_cycle(graph2))"
   ],
   "metadata": {
    "collapsed": false
   }
  },
  {
   "cell_type": "code",
   "execution_count": null,
   "outputs": [],
   "source": [],
   "metadata": {
    "collapsed": false
   }
  }
 ],
 "metadata": {
  "kernelspec": {
   "display_name": "Python 3",
   "language": "python",
   "name": "python3"
  },
  "language_info": {
   "codemirror_mode": {
    "name": "ipython",
    "version": 2
   },
   "file_extension": ".py",
   "mimetype": "text/x-python",
   "name": "python",
   "nbconvert_exporter": "python",
   "pygments_lexer": "ipython2",
   "version": "2.7.6"
  }
 },
 "nbformat": 4,
 "nbformat_minor": 0
}
