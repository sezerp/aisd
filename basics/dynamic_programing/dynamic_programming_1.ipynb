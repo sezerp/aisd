{
 "cells": [
  {
   "cell_type": "markdown",
   "source": [
    "## Dynamic programming"
   ],
   "metadata": {
    "collapsed": false
   }
  },
  {
   "cell_type": "code",
   "execution_count": 5,
   "outputs": [],
   "source": [
    "import sys\n",
    "\n",
    "\n",
    "# recursive version of fibonacci\n",
    "def fib_recu(n: int) -> int:\n",
    "    if n == 0:\n",
    "        return 0\n",
    "    if n == 1:\n",
    "        return 1\n",
    "    return fib_recu(n - 1) + fib_recu(n - 2)"
   ],
   "metadata": {
    "collapsed": false
   }
  },
  {
   "cell_type": "code",
   "execution_count": 7,
   "outputs": [
    {
     "data": {
      "text/plain": "4181"
     },
     "execution_count": 7,
     "metadata": {},
     "output_type": "execute_result"
    }
   ],
   "source": [
    "fib_recu(19)"
   ],
   "metadata": {
    "collapsed": false
   }
  },
  {
   "cell_type": "code",
   "execution_count": 20,
   "outputs": [],
   "source": [
    "# fibonacci with memoization\n",
    "def fib_memo(n: int, memo = None) -> int:\n",
    "    if memo is None:\n",
    "        memo = {}\n",
    "\n",
    "    if n in memo:\n",
    "        return memo[n]\n",
    "    if n <= 2:\n",
    "        return 1\n",
    "    memo[n] = fib_memo(n - 1, memo) + fib_memo(n - 2, memo)\n",
    "    return memo[n]"
   ],
   "metadata": {
    "collapsed": false
   }
  },
  {
   "cell_type": "code",
   "execution_count": 21,
   "outputs": [
    {
     "data": {
      "text/plain": "12586269025"
     },
     "execution_count": 21,
     "metadata": {},
     "output_type": "execute_result"
    }
   ],
   "source": [
    "fib_memo(50)"
   ],
   "metadata": {
    "collapsed": false
   }
  },
  {
   "cell_type": "code",
   "execution_count": null,
   "outputs": [],
   "source": [
    "def fib(n: int) -> int:\n",
    "    if n == 0:\n",
    "        return 0\n",
    "    if n == 1:\n",
    "        return 1\n",
    "    if n == 2:\n",
    "        return 1\n",
    "    n_1 = 1\n",
    "    n_2 = 1\n",
    "    result = 0\n",
    "    for _ in range(n - 2):\n",
    "        result = n_1 + n_2\n",
    "        n_1 = n_2\n",
    "        n_2 = result\n",
    "\n",
    "    return result"
   ],
   "metadata": {
    "collapsed": false
   }
  },
  {
   "cell_type": "code",
   "execution_count": 16,
   "outputs": [
    {
     "data": {
      "text/plain": "13"
     },
     "execution_count": 16,
     "metadata": {},
     "output_type": "execute_result"
    }
   ],
   "source": [
    "fib(7)"
   ],
   "metadata": {
    "collapsed": false
   }
  },
  {
   "cell_type": "markdown",
   "source": [
    "You are climbing a staircase. It takes N steps to reach to the top. Each time you can either climb 1 or 2 steps. In how many distinct ways you can climb to the top?"
   ],
   "metadata": {
    "collapsed": false
   }
  },
  {
   "cell_type": "code",
   "execution_count": null,
   "outputs": [],
   "source": [
    "# same as fibonacci\n",
    "def how_many_steps(n: int) -> int:\n",
    "    if n == 0:\n",
    "        return 0\n",
    "    if n == 1:\n",
    "        return 1\n",
    "    if n == 2:\n",
    "        return 2\n",
    "    n_1 = 1\n",
    "    n_2 = 2\n",
    "    result = 0\n",
    "    for _ in range(n - 2):\n",
    "        result = n_1 + n_2\n",
    "        n_1 = n_2\n",
    "        n_2 = result\n",
    "\n",
    "    return result"
   ],
   "metadata": {
    "collapsed": false
   }
  },
  {
   "cell_type": "markdown",
   "source": [
    "You are climbing a staircase. It takes N steps to reach to the top. Each time you can either climb 1 or 2 steps. In how many distinct ways you can climb to the top? at most k jumps"
   ],
   "metadata": {
    "collapsed": false
   }
  },
  {
   "cell_type": "code",
   "execution_count": 10,
   "outputs": [],
   "source": [
    "def how_many_steps_at_most(n: int, k: int) -> int:\n",
    "    pass"
   ],
   "metadata": {
    "collapsed": false
   }
  },
  {
   "cell_type": "markdown",
   "source": [
    "Given the target number N and array of allowed numbers, count ways to write N as the sum of those numbers."
   ],
   "metadata": {
    "collapsed": false
   }
  },
  {
   "cell_type": "code",
   "execution_count": 22,
   "outputs": [],
   "source": [
    "def sum_to_n(n: int, arr: list) -> int:\n",
    " pass"
   ],
   "metadata": {
    "collapsed": false
   }
  },
  {
   "cell_type": "code",
   "execution_count": 25,
   "outputs": [
    {
     "data": {
      "text/plain": "70"
     },
     "execution_count": 25,
     "metadata": {},
     "output_type": "execute_result"
    }
   ],
   "source": [
    "def grid_traveler_rec(m: int, n: int) -> int:\n",
    "    \"\"\"\n",
    "    :param: n\n",
    "    :param: m\n",
    "    how many unique paths exist frm top left corner to  the bottom right corner\n",
    "    :return:\n",
    "    \"\"\"\n",
    "    if n <= 0 or m <= 0:\n",
    "        return 0\n",
    "    if n == 1 and m == 1:\n",
    "        return 1\n",
    "    return grid_traveler_rec(m - 1, n) + grid_traveler_rec(m, n - 1)\n",
    "\n",
    "grid_traveler_rec(5,5)"
   ],
   "metadata": {
    "collapsed": false
   }
  },
  {
   "cell_type": "code",
   "execution_count": 207,
   "outputs": [
    {
     "data": {
      "text/plain": "2333606220"
     },
     "execution_count": 207,
     "metadata": {},
     "output_type": "execute_result"
    }
   ],
   "source": [
    "def grid_traveler_memo(m: int, n: int, memo=None) -> int:\n",
    "    if memo is None:\n",
    "        memo = {}\n",
    "    if m == 1 and n == 1:\n",
    "        return 1\n",
    "    if m <= 0 or n <= 0:\n",
    "        return 0\n",
    "    k = f'{m}:{n}'\n",
    "    if k in memo:\n",
    "        return memo[k]\n",
    "\n",
    "    memo[k] = grid_traveler_memo(m - 1, n, memo) + grid_traveler_memo(m, n - 1, memo)\n",
    "    memo[f\"{n}:{m}\"] = memo[k]\n",
    "\n",
    "    return memo[k]\n",
    "\n",
    "grid_traveler_memo(18, 18)"
   ],
   "metadata": {
    "collapsed": false
   }
  },
  {
   "cell_type": "code",
   "execution_count": 47,
   "outputs": [
    {
     "data": {
      "text/plain": "True"
     },
     "execution_count": 47,
     "metadata": {},
     "output_type": "execute_result"
    }
   ],
   "source": [
    "def can_sum_rec(target: int, nums: list) -> bool:\n",
    "    if target < 0:\n",
    "        return False\n",
    "    if target == 0:\n",
    "        return True\n",
    "\n",
    "    results = [ can_sum_rec(target - i, nums) for i in nums]\n",
    "\n",
    "    return any(results)\n",
    "\n",
    "\n",
    "# can_sum_rec(7, [2,4])\n",
    "# can_sum_rec(300, [7,14])\n",
    "can_sum_rec(7, [2, 3])"
   ],
   "metadata": {
    "collapsed": false
   }
  },
  {
   "cell_type": "code",
   "execution_count": 50,
   "outputs": [
    {
     "name": "stdout",
     "output_type": "stream",
     "text": [
      "False\n",
      "True\n",
      "False\n"
     ]
    }
   ],
   "source": [
    "def can_sum_mem(target: int, nums: list, memo=None):\n",
    "    if memo is None:\n",
    "        memo = {}\n",
    "\n",
    "    if target == 0:\n",
    "        return True\n",
    "    if target < 0:\n",
    "        return False\n",
    "    if target in memo:\n",
    "        return memo[target]\n",
    "\n",
    "    for n in nums:\n",
    "        result = can_sum_mem(target - n, nums, memo)\n",
    "        memo[target - n] = result\n",
    "        if result:\n",
    "            return True\n",
    "\n",
    "\n",
    "    return False\n",
    "\n",
    "print(can_sum_mem(7, [2,4]))\n",
    "print(can_sum_mem(7, [2, 3]))\n",
    "print(can_sum_mem(300, [7,14]))"
   ],
   "metadata": {
    "collapsed": false
   }
  },
  {
   "cell_type": "code",
   "execution_count": 65,
   "outputs": [
    {
     "name": "stdout",
     "output_type": "stream",
     "text": [
      "None\n",
      "[3, 2, 2]\n"
     ]
    }
   ],
   "source": [
    "def how_sum_rec(target: int, nums: list):\n",
    "    if target == 0:\n",
    "        return []\n",
    "    if target < 0:\n",
    "        return None\n",
    "\n",
    "    for n in nums:\n",
    "        next_target = target - n\n",
    "        combination = how_sum_rec(next_target, nums)\n",
    "        if combination is not None:\n",
    "            combination.append(n)\n",
    "            return combination\n",
    "\n",
    "\n",
    "print(how_sum_rec(7, [2,4]))\n",
    "print(how_sum_rec(7, [2, 3]))"
   ],
   "metadata": {
    "collapsed": false
   }
  },
  {
   "cell_type": "code",
   "execution_count": 138,
   "outputs": [
    {
     "name": "stdout",
     "output_type": "stream",
     "text": [
      "None\n",
      "[3, 2, 2]\n",
      "[2, 2, 2, 2]\n",
      "[3, 3, 3, 3, 3, 3, 3, 3, 3, 3, 3, 3, 3, 3, 3, 3, 3, 3, 3, 3, 3, 3, 3, 3, 3, 3, 3, 3, 3, 3, 3, 3, 3, 3, 3, 3, 3, 3, 3, 3, 3, 3, 3, 3, 3, 3, 3, 3, 3, 3, 3, 3, 3, 3, 3, 3, 3, 3, 3, 3, 3, 3, 3, 3, 3, 3, 3, 3, 3, 3, 3, 3, 3, 3, 3, 3, 3, 3, 3, 3, 3, 3, 3, 3, 3, 3, 3, 3, 3, 3, 3, 3, 3, 3, 3, 3, 3, 3, 3, 3]\n"
     ]
    }
   ],
   "source": [
    "def how_sum_mem(target: int, nums: list, memo=None):\n",
    "    if memo is None:\n",
    "        memo = {}\n",
    "    if target == 0:\n",
    "        return []\n",
    "    if target < 0:\n",
    "        return None\n",
    "    if target in memo:\n",
    "        return memo[target]\n",
    "\n",
    "    for n in nums:\n",
    "        next_target = target - n\n",
    "        combination = how_sum_mem(next_target, nums, memo)\n",
    "        memo[next_target] = combination.copy() if combination is not None else None\n",
    "        if combination is not None:\n",
    "            combination.append(n)\n",
    "            return combination\n",
    "\n",
    "print(how_sum_mem(7, [2,4]))\n",
    "print(how_sum_mem(7, [2, 3]))\n",
    "print(how_sum_mem(8, [2, 3, 5]))\n",
    "print(how_sum_mem(300, [3, 100]))"
   ],
   "metadata": {
    "collapsed": false
   }
  },
  {
   "cell_type": "code",
   "execution_count": 144,
   "outputs": [
    {
     "name": "stdout",
     "output_type": "stream",
     "text": [
      "[5, 3]\n",
      "[4, 4]\n"
     ]
    },
    {
     "ename": "KeyboardInterrupt",
     "evalue": "",
     "output_type": "error",
     "traceback": [
      "\u001B[0;31m---------------------------------------------------------------------------\u001B[0m",
      "\u001B[0;31mKeyboardInterrupt\u001B[0m                         Traceback (most recent call last)",
      "Cell \u001B[0;32mIn [144], line 20\u001B[0m\n\u001B[1;32m     18\u001B[0m \u001B[38;5;28mprint\u001B[39m(best_sum_rec(\u001B[38;5;241m8\u001B[39m, [\u001B[38;5;241m2\u001B[39m, \u001B[38;5;241m3\u001B[39m, \u001B[38;5;241m5\u001B[39m]))\n\u001B[1;32m     19\u001B[0m \u001B[38;5;28mprint\u001B[39m(best_sum_rec(\u001B[38;5;241m8\u001B[39m, [\u001B[38;5;241m1\u001B[39m, \u001B[38;5;241m4\u001B[39m, \u001B[38;5;241m5\u001B[39m]))\n\u001B[0;32m---> 20\u001B[0m \u001B[38;5;28mprint\u001B[39m(\u001B[43mbest_sum_rec\u001B[49m\u001B[43m(\u001B[49m\u001B[38;5;241;43m2000\u001B[39;49m\u001B[43m,\u001B[49m\u001B[43m \u001B[49m\u001B[43m[\u001B[49m\u001B[38;5;241;43m1\u001B[39;49m\u001B[43m,\u001B[49m\u001B[43m \u001B[49m\u001B[38;5;241;43m100\u001B[39;49m\u001B[43m]\u001B[49m\u001B[43m)\u001B[49m)\n",
      "Cell \u001B[0;32mIn [144], line 10\u001B[0m, in \u001B[0;36mbest_sum_rec\u001B[0;34m(target, nums)\u001B[0m\n\u001B[1;32m      8\u001B[0m \u001B[38;5;28;01mfor\u001B[39;00m n \u001B[38;5;129;01min\u001B[39;00m nums:\n\u001B[1;32m      9\u001B[0m     next_target \u001B[38;5;241m=\u001B[39m target \u001B[38;5;241m-\u001B[39m n\n\u001B[0;32m---> 10\u001B[0m     comb \u001B[38;5;241m=\u001B[39m \u001B[43mbest_sum_rec\u001B[49m\u001B[43m(\u001B[49m\u001B[43mnext_target\u001B[49m\u001B[43m,\u001B[49m\u001B[43m \u001B[49m\u001B[43mnums\u001B[49m\u001B[43m)\u001B[49m\n\u001B[1;32m     11\u001B[0m     \u001B[38;5;28;01mif\u001B[39;00m comb \u001B[38;5;129;01mis\u001B[39;00m \u001B[38;5;129;01mnot\u001B[39;00m \u001B[38;5;28;01mNone\u001B[39;00m:\n\u001B[1;32m     12\u001B[0m         comb\u001B[38;5;241m.\u001B[39mappend(n)\n",
      "Cell \u001B[0;32mIn [144], line 10\u001B[0m, in \u001B[0;36mbest_sum_rec\u001B[0;34m(target, nums)\u001B[0m\n\u001B[1;32m      8\u001B[0m \u001B[38;5;28;01mfor\u001B[39;00m n \u001B[38;5;129;01min\u001B[39;00m nums:\n\u001B[1;32m      9\u001B[0m     next_target \u001B[38;5;241m=\u001B[39m target \u001B[38;5;241m-\u001B[39m n\n\u001B[0;32m---> 10\u001B[0m     comb \u001B[38;5;241m=\u001B[39m \u001B[43mbest_sum_rec\u001B[49m\u001B[43m(\u001B[49m\u001B[43mnext_target\u001B[49m\u001B[43m,\u001B[49m\u001B[43m \u001B[49m\u001B[43mnums\u001B[49m\u001B[43m)\u001B[49m\n\u001B[1;32m     11\u001B[0m     \u001B[38;5;28;01mif\u001B[39;00m comb \u001B[38;5;129;01mis\u001B[39;00m \u001B[38;5;129;01mnot\u001B[39;00m \u001B[38;5;28;01mNone\u001B[39;00m:\n\u001B[1;32m     12\u001B[0m         comb\u001B[38;5;241m.\u001B[39mappend(n)\n",
      "    \u001B[0;31m[... skipping similar frames: best_sum_rec at line 10 (1490 times)]\u001B[0m\n",
      "Cell \u001B[0;32mIn [144], line 10\u001B[0m, in \u001B[0;36mbest_sum_rec\u001B[0;34m(target, nums)\u001B[0m\n\u001B[1;32m      8\u001B[0m \u001B[38;5;28;01mfor\u001B[39;00m n \u001B[38;5;129;01min\u001B[39;00m nums:\n\u001B[1;32m      9\u001B[0m     next_target \u001B[38;5;241m=\u001B[39m target \u001B[38;5;241m-\u001B[39m n\n\u001B[0;32m---> 10\u001B[0m     comb \u001B[38;5;241m=\u001B[39m \u001B[43mbest_sum_rec\u001B[49m\u001B[43m(\u001B[49m\u001B[43mnext_target\u001B[49m\u001B[43m,\u001B[49m\u001B[43m \u001B[49m\u001B[43mnums\u001B[49m\u001B[43m)\u001B[49m\n\u001B[1;32m     11\u001B[0m     \u001B[38;5;28;01mif\u001B[39;00m comb \u001B[38;5;129;01mis\u001B[39;00m \u001B[38;5;129;01mnot\u001B[39;00m \u001B[38;5;28;01mNone\u001B[39;00m:\n\u001B[1;32m     12\u001B[0m         comb\u001B[38;5;241m.\u001B[39mappend(n)\n",
      "Cell \u001B[0;32mIn [144], line 12\u001B[0m, in \u001B[0;36mbest_sum_rec\u001B[0;34m(target, nums)\u001B[0m\n\u001B[1;32m     10\u001B[0m comb \u001B[38;5;241m=\u001B[39m best_sum_rec(next_target, nums)\n\u001B[1;32m     11\u001B[0m \u001B[38;5;28;01mif\u001B[39;00m comb \u001B[38;5;129;01mis\u001B[39;00m \u001B[38;5;129;01mnot\u001B[39;00m \u001B[38;5;28;01mNone\u001B[39;00m:\n\u001B[0;32m---> 12\u001B[0m     \u001B[43mcomb\u001B[49m\u001B[38;5;241;43m.\u001B[39;49m\u001B[43mappend\u001B[49m(n)\n\u001B[1;32m     13\u001B[0m     \u001B[38;5;28;01mif\u001B[39;00m result \u001B[38;5;129;01mis\u001B[39;00m \u001B[38;5;28;01mNone\u001B[39;00m \u001B[38;5;129;01mor\u001B[39;00m \u001B[38;5;28mlen\u001B[39m(result) \u001B[38;5;241m>\u001B[39m \u001B[38;5;28mlen\u001B[39m(comb):\n\u001B[1;32m     14\u001B[0m         result \u001B[38;5;241m=\u001B[39m comb\n",
      "\u001B[0;31mKeyboardInterrupt\u001B[0m: "
     ]
    }
   ],
   "source": [
    "def best_sum_rec(target: int, nums: list) -> list:\n",
    "    if target < 0:\n",
    "        return None\n",
    "    if target == 0:\n",
    "        return []\n",
    "\n",
    "    result = None\n",
    "    for n in nums:\n",
    "        next_target = target - n\n",
    "        comb = best_sum_rec(next_target, nums)\n",
    "        if comb is not None:\n",
    "            comb.append(n)\n",
    "            if result is None or len(result) > len(comb):\n",
    "                result = comb\n",
    "\n",
    "    return result\n",
    "\n",
    "print(best_sum_rec(8, [2, 3, 5]))\n",
    "print(best_sum_rec(8, [1, 4, 5]))\n",
    "print(best_sum_rec(2000, [1, 100]))"
   ],
   "metadata": {
    "collapsed": false
   }
  },
  {
   "cell_type": "code",
   "execution_count": 145,
   "outputs": [
    {
     "name": "stdout",
     "output_type": "stream",
     "text": [
      "[5, 3]\n",
      "[4, 4]\n",
      "[100, 100, 100, 100, 100, 100, 100, 100, 100, 100, 100, 100, 100, 100, 100, 100, 100, 100, 100, 100]\n"
     ]
    }
   ],
   "source": [
    "def best_sum_memo(target: int, nums: list, memo=None) -> list:\n",
    "    if memo is None:\n",
    "        memo = {}\n",
    "    if target < 0:\n",
    "        return None\n",
    "    if target == 0:\n",
    "        return []\n",
    "    if target in memo:\n",
    "        return memo[target]\n",
    "\n",
    "    result = None\n",
    "    for n in nums:\n",
    "        next_target = target - n\n",
    "        comb = best_sum_memo(next_target, nums, memo)\n",
    "\n",
    "        # memo[next_target] = comb.copy() if comb is not None else None\n",
    "        if comb is not None:\n",
    "            comb.append(n)\n",
    "            if result is None or len(result) > len(comb):\n",
    "                result = comb\n",
    "\n",
    "    memo[target] = result.copy() if result is not None else None\n",
    "\n",
    "    return result\n",
    "\n",
    "print(best_sum_memo(8, [2, 3, 5]))\n",
    "print(best_sum_memo(8, [1, 4, 5]))\n",
    "print(best_sum_memo(2000, [1, 100]))"
   ],
   "metadata": {
    "collapsed": false
   }
  },
  {
   "cell_type": "code",
   "execution_count": 155,
   "outputs": [
    {
     "name": "stdout",
     "output_type": "stream",
     "text": [
      "True\n",
      "True\n",
      "True\n"
     ]
    },
    {
     "ename": "KeyboardInterrupt",
     "evalue": "",
     "output_type": "error",
     "traceback": [
      "\u001B[0;31m---------------------------------------------------------------------------\u001B[0m",
      "\u001B[0;31mKeyboardInterrupt\u001B[0m                         Traceback (most recent call last)",
      "Cell \u001B[0;32mIn [155], line 16\u001B[0m\n\u001B[1;32m     14\u001B[0m \u001B[38;5;28mprint\u001B[39m(can_construct_rec(\u001B[38;5;124m\"\u001B[39m\u001B[38;5;124mskateboard\u001B[39m\u001B[38;5;124m\"\u001B[39m, [\u001B[38;5;124m\"\u001B[39m\u001B[38;5;124mbo\u001B[39m\u001B[38;5;124m\"\u001B[39m, \u001B[38;5;124m\"\u001B[39m\u001B[38;5;124mrd\u001B[39m\u001B[38;5;124m\"\u001B[39m, \u001B[38;5;124m\"\u001B[39m\u001B[38;5;124mate\u001B[39m\u001B[38;5;124m\"\u001B[39m, \u001B[38;5;124m\"\u001B[39m\u001B[38;5;124mt\u001B[39m\u001B[38;5;124m\"\u001B[39m, \u001B[38;5;124m\"\u001B[39m\u001B[38;5;124mska\u001B[39m\u001B[38;5;124m\"\u001B[39m, \u001B[38;5;124m\"\u001B[39m\u001B[38;5;124msk\u001B[39m\u001B[38;5;124m\"\u001B[39m, \u001B[38;5;124m\"\u001B[39m\u001B[38;5;124mboard\u001B[39m\u001B[38;5;124m\"\u001B[39m]))\n\u001B[1;32m     15\u001B[0m \u001B[38;5;28mprint\u001B[39m(can_construct_rec(\u001B[38;5;124m\"\u001B[39m\u001B[38;5;124menterapotentpot\u001B[39m\u001B[38;5;124m\"\u001B[39m, [\u001B[38;5;124m\"\u001B[39m\u001B[38;5;124ma\u001B[39m\u001B[38;5;124m\"\u001B[39m, \u001B[38;5;124m\"\u001B[39m\u001B[38;5;124mp\u001B[39m\u001B[38;5;124m\"\u001B[39m, \u001B[38;5;124m\"\u001B[39m\u001B[38;5;124ment\u001B[39m\u001B[38;5;124m\"\u001B[39m, \u001B[38;5;124m\"\u001B[39m\u001B[38;5;124menter\u001B[39m\u001B[38;5;124m\"\u001B[39m, \u001B[38;5;124m\"\u001B[39m\u001B[38;5;124mot\u001B[39m\u001B[38;5;124m\"\u001B[39m, \u001B[38;5;124m\"\u001B[39m\u001B[38;5;124mo\u001B[39m\u001B[38;5;124m\"\u001B[39m, \u001B[38;5;124m\"\u001B[39m\u001B[38;5;124mt\u001B[39m\u001B[38;5;124m\"\u001B[39m]))\n\u001B[0;32m---> 16\u001B[0m \u001B[38;5;28mprint\u001B[39m(\u001B[43mcan_construct_rec\u001B[49m\u001B[43m(\u001B[49m\u001B[38;5;124;43m\"\u001B[39;49m\u001B[38;5;124;43meeeeeeeeeeeeeeeeeeeeeeeeeeeeeeeeeeeeeeeeeeeeeeeeeeeeeeeeeeeeeeeef\u001B[39;49m\u001B[38;5;124;43m\"\u001B[39;49m\u001B[43m,\u001B[49m\u001B[43m \u001B[49m\u001B[43m[\u001B[49m\u001B[38;5;124;43m\"\u001B[39;49m\u001B[38;5;124;43me\u001B[39;49m\u001B[38;5;124;43m\"\u001B[39;49m\u001B[43m,\u001B[49m\u001B[43m \u001B[49m\u001B[38;5;124;43m\"\u001B[39;49m\u001B[38;5;124;43meee\u001B[39;49m\u001B[38;5;124;43m\"\u001B[39;49m\u001B[43m,\u001B[49m\u001B[43m \u001B[49m\u001B[38;5;124;43m\"\u001B[39;49m\u001B[38;5;124;43meeee\u001B[39;49m\u001B[38;5;124;43m\"\u001B[39;49m\u001B[43m,\u001B[49m\u001B[43m \u001B[49m\u001B[38;5;124;43m\"\u001B[39;49m\u001B[38;5;124;43meeeeeee\u001B[39;49m\u001B[38;5;124;43m\"\u001B[39;49m\u001B[43m,\u001B[49m\u001B[43m \u001B[49m\u001B[38;5;124;43m\"\u001B[39;49m\u001B[38;5;124;43meeeeeeee\u001B[39;49m\u001B[38;5;124;43m\"\u001B[39;49m\u001B[43m,\u001B[49m\u001B[43m \u001B[49m\u001B[38;5;124;43m\"\u001B[39;49m\u001B[38;5;124;43meeeeeeeee\u001B[39;49m\u001B[38;5;124;43m\"\u001B[39;49m\u001B[43m,\u001B[49m\u001B[43m \u001B[49m\u001B[38;5;124;43m\"\u001B[39;49m\u001B[38;5;124;43meeeeeeeeee\u001B[39;49m\u001B[38;5;124;43m\"\u001B[39;49m\u001B[43m]\u001B[49m\u001B[43m)\u001B[49m)\n",
      "Cell \u001B[0;32mIn [155], line 7\u001B[0m, in \u001B[0;36mcan_construct_rec\u001B[0;34m(w, alphabet)\u001B[0m\n\u001B[1;32m      5\u001B[0m \u001B[38;5;28;01mfor\u001B[39;00m l \u001B[38;5;129;01min\u001B[39;00m alphabet:\n\u001B[1;32m      6\u001B[0m     \u001B[38;5;28;01mif\u001B[39;00m w\u001B[38;5;241m.\u001B[39mstartswith(l):\n\u001B[0;32m----> 7\u001B[0m         result \u001B[38;5;241m=\u001B[39m \u001B[43mcan_construct_rec\u001B[49m\u001B[43m(\u001B[49m\u001B[43mw\u001B[49m\u001B[43m[\u001B[49m\u001B[38;5;28;43mlen\u001B[39;49m\u001B[43m(\u001B[49m\u001B[43ml\u001B[49m\u001B[43m)\u001B[49m\u001B[43m:\u001B[49m\u001B[38;5;28;43mlen\u001B[39;49m\u001B[43m(\u001B[49m\u001B[43mw\u001B[49m\u001B[43m)\u001B[49m\u001B[43m]\u001B[49m\u001B[43m,\u001B[49m\u001B[43m \u001B[49m\u001B[43malphabet\u001B[49m\u001B[43m)\u001B[49m\n\u001B[1;32m      8\u001B[0m         \u001B[38;5;28;01mif\u001B[39;00m result:\n\u001B[1;32m      9\u001B[0m             \u001B[38;5;28;01mreturn\u001B[39;00m result\n",
      "Cell \u001B[0;32mIn [155], line 7\u001B[0m, in \u001B[0;36mcan_construct_rec\u001B[0;34m(w, alphabet)\u001B[0m\n\u001B[1;32m      5\u001B[0m \u001B[38;5;28;01mfor\u001B[39;00m l \u001B[38;5;129;01min\u001B[39;00m alphabet:\n\u001B[1;32m      6\u001B[0m     \u001B[38;5;28;01mif\u001B[39;00m w\u001B[38;5;241m.\u001B[39mstartswith(l):\n\u001B[0;32m----> 7\u001B[0m         result \u001B[38;5;241m=\u001B[39m \u001B[43mcan_construct_rec\u001B[49m\u001B[43m(\u001B[49m\u001B[43mw\u001B[49m\u001B[43m[\u001B[49m\u001B[38;5;28;43mlen\u001B[39;49m\u001B[43m(\u001B[49m\u001B[43ml\u001B[49m\u001B[43m)\u001B[49m\u001B[43m:\u001B[49m\u001B[38;5;28;43mlen\u001B[39;49m\u001B[43m(\u001B[49m\u001B[43mw\u001B[49m\u001B[43m)\u001B[49m\u001B[43m]\u001B[49m\u001B[43m,\u001B[49m\u001B[43m \u001B[49m\u001B[43malphabet\u001B[49m\u001B[43m)\u001B[49m\n\u001B[1;32m      8\u001B[0m         \u001B[38;5;28;01mif\u001B[39;00m result:\n\u001B[1;32m      9\u001B[0m             \u001B[38;5;28;01mreturn\u001B[39;00m result\n",
      "    \u001B[0;31m[... skipping similar frames: can_construct_rec at line 7 (45 times)]\u001B[0m\n",
      "Cell \u001B[0;32mIn [155], line 7\u001B[0m, in \u001B[0;36mcan_construct_rec\u001B[0;34m(w, alphabet)\u001B[0m\n\u001B[1;32m      5\u001B[0m \u001B[38;5;28;01mfor\u001B[39;00m l \u001B[38;5;129;01min\u001B[39;00m alphabet:\n\u001B[1;32m      6\u001B[0m     \u001B[38;5;28;01mif\u001B[39;00m w\u001B[38;5;241m.\u001B[39mstartswith(l):\n\u001B[0;32m----> 7\u001B[0m         result \u001B[38;5;241m=\u001B[39m \u001B[43mcan_construct_rec\u001B[49m\u001B[43m(\u001B[49m\u001B[43mw\u001B[49m\u001B[43m[\u001B[49m\u001B[38;5;28;43mlen\u001B[39;49m\u001B[43m(\u001B[49m\u001B[43ml\u001B[49m\u001B[43m)\u001B[49m\u001B[43m:\u001B[49m\u001B[38;5;28;43mlen\u001B[39;49m\u001B[43m(\u001B[49m\u001B[43mw\u001B[49m\u001B[43m)\u001B[49m\u001B[43m]\u001B[49m\u001B[43m,\u001B[49m\u001B[43m \u001B[49m\u001B[43malphabet\u001B[49m\u001B[43m)\u001B[49m\n\u001B[1;32m      8\u001B[0m         \u001B[38;5;28;01mif\u001B[39;00m result:\n\u001B[1;32m      9\u001B[0m             \u001B[38;5;28;01mreturn\u001B[39;00m result\n",
      "Cell \u001B[0;32mIn [155], line 6\u001B[0m, in \u001B[0;36mcan_construct_rec\u001B[0;34m(w, alphabet)\u001B[0m\n\u001B[1;32m      3\u001B[0m     \u001B[38;5;28;01mreturn\u001B[39;00m \u001B[38;5;28;01mTrue\u001B[39;00m\n\u001B[1;32m      5\u001B[0m \u001B[38;5;28;01mfor\u001B[39;00m l \u001B[38;5;129;01min\u001B[39;00m alphabet:\n\u001B[0;32m----> 6\u001B[0m     \u001B[38;5;28;01mif\u001B[39;00m \u001B[43mw\u001B[49m\u001B[38;5;241;43m.\u001B[39;49m\u001B[43mstartswith\u001B[49m(l):\n\u001B[1;32m      7\u001B[0m         result \u001B[38;5;241m=\u001B[39m can_construct_rec(w[\u001B[38;5;28mlen\u001B[39m(l):\u001B[38;5;28mlen\u001B[39m(w)], alphabet)\n\u001B[1;32m      8\u001B[0m         \u001B[38;5;28;01mif\u001B[39;00m result:\n",
      "\u001B[0;31mKeyboardInterrupt\u001B[0m: "
     ]
    }
   ],
   "source": [
    "def can_construct_rec(w: str, alphabet: list) -> bool:\n",
    "    if w == \"\":\n",
    "        return True\n",
    "\n",
    "    for l in alphabet:\n",
    "        if w.startswith(l):\n",
    "            result = can_construct_rec(w[len(l):len(w)], alphabet)\n",
    "            if result:\n",
    "                return result\n",
    "\n",
    "    return False\n",
    "\n",
    "print(can_construct_rec(\"abcdef\", [\"ab\", \"cd\", \"abc\", \"def\", \"abcd\"]))\n",
    "print(can_construct_rec(\"skateboard\", [\"bo\", \"rd\", \"ate\", \"t\", \"ska\", \"sk\", \"boad\"]))\n",
    "print(can_construct_rec(\"enterapotentpot\", [\"a\", \"p\", \"ent\", \"enter\", \"ot\", \"o\", \"t\"]))\n",
    "print(can_construct_rec(\"eeeeeeeeeeeeeeeeeeeeeeeeeeeeeeeeeeeeeeeeeeeeeeeeeeeeeeeeeeeeeeeef\", [\"e\", \"eee\", \"eeee\", \"eeeeeee\", \"eeeeeeee\", \"eeeeeeeee\", \"eeeeeeeeee\"]))"
   ],
   "metadata": {
    "collapsed": false
   }
  },
  {
   "cell_type": "code",
   "execution_count": 157,
   "outputs": [
    {
     "name": "stdout",
     "output_type": "stream",
     "text": [
      "True\n",
      "False\n",
      "True\n",
      "False\n"
     ]
    }
   ],
   "source": [
    "def can_construct_memo(w: str, alphabet: list, memo=None) -> bool:\n",
    "    if memo is None:\n",
    "        memo = {}\n",
    "    if w == \"\":\n",
    "        return True\n",
    "    if w in memo:\n",
    "        return memo[w]\n",
    "\n",
    "    for l in alphabet:\n",
    "        if w.startswith(l):\n",
    "            suffix = w[len(l):len(w)]\n",
    "            result = can_construct_memo(suffix, alphabet, memo)\n",
    "            memo[suffix] = result\n",
    "            if result:\n",
    "                return result\n",
    "\n",
    "    return False\n",
    "\n",
    "print(can_construct_memo(\"abcdef\", [\"ab\", \"cd\", \"abc\", \"def\", \"abcd\"]))\n",
    "print(can_construct_memo(\"skateboard\", [\"bo\", \"rd\", \"ate\", \"t\", \"ska\", \"sk\", \"boar\"]))\n",
    "print(can_construct_memo(\"enterapotentpot\", [\"a\", \"p\", \"ent\", \"enter\", \"ot\", \"o\", \"t\"]))\n",
    "print(can_construct_memo(\"eeeeeeeeeeeeeeeeeeeeeeeeeeeeeeeeeeeeeeeeeeeeeeeeeeeeeeeeeeeeeeeef\", [\"e\", \"eee\", \"eeee\", \"eeeeeee\", \"eeeeeeee\", \"eeeeeeeee\", \"eeeeeeeeee\"]))"
   ],
   "metadata": {
    "collapsed": false
   }
  },
  {
   "cell_type": "code",
   "execution_count": 161,
   "outputs": [
    {
     "name": "stdout",
     "output_type": "stream",
     "text": [
      "1\n",
      "0\n",
      "4\n"
     ]
    }
   ],
   "source": [
    "def count_construct_rec(w: str, alphabet: list) -> int:\n",
    "    if w == \"\":\n",
    "        return 1\n",
    "\n",
    "    total_count = 0\n",
    "\n",
    "    for l in alphabet:\n",
    "        if w.startswith(l):\n",
    "            suffix = w[len(l):len(w)]\n",
    "            total_count += count_construct_rec(suffix, alphabet)\n",
    "\n",
    "    return total_count\n",
    "\n",
    "print(count_construct_rec(\"abcdef\", [\"ab\", \"cd\", \"abc\", \"def\", \"abcd\"]))\n",
    "print(count_construct_rec(\"skateboard\", [\"bo\", \"rd\", \"ate\", \"t\", \"ska\", \"sk\", \"boar\"]))\n",
    "print(count_construct_rec(\"enterapotentpot\", [\"a\", \"p\", \"ent\", \"enter\", \"ot\", \"o\", \"t\"]))"
   ],
   "metadata": {
    "collapsed": false
   }
  },
  {
   "cell_type": "code",
   "execution_count": 163,
   "outputs": [
    {
     "name": "stdout",
     "output_type": "stream",
     "text": [
      "1\n",
      "0\n",
      "4\n",
      "0\n"
     ]
    }
   ],
   "source": [
    "def count_construct_memo(w: str, alphabet: list, memo=None) -> int:\n",
    "    if memo is None:\n",
    "        memo = {}\n",
    "    if w == \"\":\n",
    "        return 1\n",
    "    if w in memo:\n",
    "        return memo[w]\n",
    "\n",
    "    total_count = 0\n",
    "\n",
    "    for l in alphabet:\n",
    "        if w.startswith(l):\n",
    "            suffix = w[len(l):len(w)]\n",
    "            result = count_construct_memo(suffix, alphabet, memo)\n",
    "            memo[suffix] = result\n",
    "            total_count += result\n",
    "\n",
    "    return total_count\n",
    "\n",
    "print(count_construct_memo(\"abcdef\", [\"ab\", \"cd\", \"abc\", \"def\", \"abcd\"]))\n",
    "print(count_construct_memo(\"skateboard\", [\"bo\", \"rd\", \"ate\", \"t\", \"ska\", \"sk\", \"boar\"]))\n",
    "print(count_construct_memo(\"enterapotentpot\", [\"a\", \"p\", \"ent\", \"enter\", \"ot\", \"o\", \"t\"]))\n",
    "print(count_construct_memo(\"eeeeeeeeeeeeeeeeeeeeeeeeeeeeeeeeeeeeeeeeeeeeeeeeeeeeeeeeeeeeeeeef\", [\"e\", \"eee\", \"eeee\", \"eeeeeee\", \"eeeeeeee\", \"eeeeeeeee\", \"eeeeeeeeee\"]))"
   ],
   "metadata": {
    "collapsed": false
   }
  },
  {
   "cell_type": "code",
   "execution_count": 190,
   "outputs": [
    {
     "name": "stdout",
     "output_type": "stream",
     "text": [
      "[deque(['abc', 'def'])]\n",
      "[]\n",
      "[deque(['enter', 'a', 'p', 'ot', 'ent', 'p', 'ot']),\n",
      " deque(['enter', 'a', 'p', 'ot', 'ent', 'p', 'o', 't']),\n",
      " deque(['enter', 'a', 'p', 'o', 't', 'ent', 'p', 'ot']),\n",
      " deque(['enter', 'a', 'p', 'o', 't', 'ent', 'p', 'o', 't'])]\n"
     ]
    }
   ],
   "source": [
    "from collections import deque\n",
    "from pprint import pprint\n",
    "\n",
    "def all_construct_rec(w: str, alphabet: list) -> list:\n",
    "    if w == \"\":\n",
    "        return [deque([])]\n",
    "    result = []\n",
    "    for l in alphabet:\n",
    "        if w.startswith(l):\n",
    "            suffix = w[len(l):len(w)]\n",
    "            suffix_ways = all_construct_rec(suffix, alphabet)\n",
    "            [way.appendleft(l) for way in suffix_ways]\n",
    "            result = result + suffix_ways\n",
    "\n",
    "    return result\n",
    "\n",
    "pprint(all_construct_rec(\"abcdef\", [\"ab\", \"cd\", \"abc\", \"def\", \"abcd\"]))\n",
    "pprint(all_construct_rec(\"skateboard\", [\"bo\", \"rd\", \"ate\", \"t\", \"ska\", \"sk\", \"boar\"]))\n",
    "pprint(all_construct_rec(\"enterapotentpot\", [\"a\", \"p\", \"ent\", \"enter\", \"ot\", \"o\", \"t\"]))\n",
    "# pprint(all_construct_rec(\"eeeeeeeeeeeeeeeeeeeeeeeeeeeeeeeeeeeeeeeeeeeeeeeeeeeeeeeeeeeeeeeef\", [\"e\", \"eee\", \"eeee\", \"eeeeeee\", \"eeeeeeee\", \"eeeeeeeee\", \"eeeeeeeeee\"]))"
   ],
   "metadata": {
    "collapsed": false
   }
  },
  {
   "cell_type": "code",
   "execution_count": 258,
   "outputs": [
    {
     "name": "stdout",
     "output_type": "stream",
     "text": [
      "[deque(['abc', 'def'])]\n",
      "[]\n",
      "[deque(['enter', 'a', 'p', 'ot', 'ent', 'p', 'ot']),\n",
      " deque(['enter', 'a', 'p', 'ot', 'ent', 'p', 'o', 't']),\n",
      " deque(['enter', 'a', 'p', 'o', 't', 'ot', 'ent', 'p', 'ot']),\n",
      " deque(['enter', 'a', 'p', 'o', 't', 'ot', 'ent', 'p', 'o', 't'])]\n",
      "[]\n"
     ]
    }
   ],
   "source": [
    "from collections import deque\n",
    "from pprint import pprint\n",
    "\n",
    "def all_construct_memo(w: str, alphabet: list, memo=None) -> list:\n",
    "    if memo is None:\n",
    "        memo = {}\n",
    "    if w == \"\":\n",
    "        return [deque([])]\n",
    "    if w in memo:\n",
    "        return memo[w]\n",
    "\n",
    "\n",
    "    result = []\n",
    "\n",
    "    for l in alphabet:\n",
    "        if w.startswith(l):\n",
    "            suffix = w[len(l):len(w)]\n",
    "            suffix_ways = all_construct_memo(suffix, alphabet, memo)\n",
    "            [way.appendleft(l) for way in suffix_ways]\n",
    "            result = result + suffix_ways\n",
    "            copied_ways = list([way.copy() for way in suffix_ways])\n",
    "            memo[suffix] = copied_ways\n",
    "\n",
    "    return result\n",
    "\n",
    "pprint(all_construct_memo(\"abcdef\", [\"ab\", \"cd\", \"abc\", \"def\", \"abcd\"]))\n",
    "pprint(all_construct_memo(\"skateboard\", [\"bo\", \"rd\", \"ate\", \"t\", \"ska\", \"sk\", \"boar\"]))\n",
    "pprint(all_construct_memo(\"enterapotentpot\", [\"a\", \"p\", \"ent\", \"enter\", \"ot\", \"o\", \"t\"]))\n",
    "pprint(all_construct_memo(\"eeeeeeeeeeeeeeeeeeeeeeeeeeeeeeeeeeeeeeeeeeeeeeeeeeeeeeeeeeeeeeeef\", [\"e\", \"eee\", \"eeee\", \"eeeeeee\", \"eeeeeeee\", \"eeeeeeeee\", \"eeeeeeeeee\"]))"
   ],
   "metadata": {
    "collapsed": false
   }
  },
  {
   "cell_type": "code",
   "execution_count": 201,
   "outputs": [
    {
     "name": "stdout",
     "output_type": "stream",
     "text": [
      "8\n",
      "8\n"
     ]
    }
   ],
   "source": [
    "def fib_tab1(n) -> int:\n",
    "    if n <= 2:\n",
    "        return 1\n",
    "\n",
    "    c_1 = 1\n",
    "    c_2 = 1\n",
    "    result = 0\n",
    "    for _ in range(2, n):\n",
    "        result = c_1 + c_2\n",
    "        c_1 = c_2\n",
    "        c_2 = result\n",
    "\n",
    "\n",
    "    return result\n",
    "\n",
    "def fib_tab2(n: int) -> int:\n",
    "    if n <= 2:\n",
    "        return 1\n",
    "    table = [0] * (n +1)\n",
    "    table[1] = 1\n",
    "    for i in range(n):\n",
    "        table[i + 1] += table[i]\n",
    "        if i + 2 <= n:\n",
    "            table[i + 2] += table[i]\n",
    "\n",
    "    return table[n]\n",
    "\n",
    "print(fib_tab1(6))\n",
    "print(fib_tab2(6))"
   ],
   "metadata": {
    "collapsed": false
   }
  },
  {
   "cell_type": "code",
   "execution_count": 227,
   "outputs": [
    {
     "name": "stdout",
     "output_type": "stream",
     "text": [
      "1\n",
      "3\n",
      "3\n",
      "6\n",
      "2333606220\n"
     ]
    }
   ],
   "source": [
    "from pprint import pprint\n",
    "\n",
    "def grid_traveler_tab(m: int, n: int) -> int:\n",
    "    table = [[0 for _ in range(n + 1)] for _ in range(m + 1)]\n",
    "    table[1][1] = 1\n",
    "    for i in range(m + 1):\n",
    "        for j in range(n + 1):\n",
    "            current = table[i][j]\n",
    "            if j + 1 <= n:\n",
    "                table[i][j + 1] += current\n",
    "            if i + 1 <= m:\n",
    "              table[i + 1][j] += current\n",
    "\n",
    "    return table[m][n]\n",
    "\n",
    "\n",
    "print(grid_traveler_tab(1, 1))\n",
    "print(grid_traveler_tab(2, 3))\n",
    "print(grid_traveler_tab(3, 2))\n",
    "print(grid_traveler_tab(3, 3))\n",
    "print(grid_traveler_tab(18, 18))"
   ],
   "metadata": {
    "collapsed": false
   }
  },
  {
   "cell_type": "code",
   "execution_count": 236,
   "outputs": [
    {
     "name": "stdout",
     "output_type": "stream",
     "text": [
      "True\n",
      "True\n",
      "False\n",
      "True\n",
      "False\n"
     ]
    }
   ],
   "source": [
    "from pprint import pprint\n",
    "\n",
    "def can_sum_tab(target: int, numbers: list) -> bool:\n",
    "    table = [False for _ in range(target + 1)]\n",
    "    table[0] = True\n",
    "    for i in range(target + 1):\n",
    "        if table[i]:\n",
    "            for n in numbers:\n",
    "                if i + n <= target:\n",
    "                    table[i + n] = True\n",
    "\n",
    "    return table[target]\n",
    "\n",
    "print(can_sum_tab(7, [5, 3, 4]))\n",
    "print(can_sum_tab(7, [5, 3, 4, 7]))\n",
    "print(can_sum_tab(7, [2, 4]))\n",
    "print(can_sum_tab(8, [2, 3, 5]))\n",
    "print(can_sum_tab(300, [7, 14]))"
   ],
   "metadata": {
    "collapsed": false
   }
  },
  {
   "cell_type": "code",
   "execution_count": 239,
   "outputs": [
    {
     "name": "stdout",
     "output_type": "stream",
     "text": [
      "[4, 3]\n",
      "[4, 3]\n",
      "[]\n",
      "[2, 2, 2, 2]\n",
      "[]\n"
     ]
    }
   ],
   "source": [
    "def how_sum_tab(target: int, numbers: list) -> list:\n",
    "    table = [None for _ in range(target + 1)]\n",
    "    table[0] = []\n",
    "    for i in range(target + 1):\n",
    "        if table[i] is not None:\n",
    "            for n in numbers:\n",
    "                if i + n <= target:\n",
    "                    arr = table[i].copy()\n",
    "                    arr.append(n)\n",
    "                    table[i + n] = arr\n",
    "\n",
    "    return table[target] if table[target] is not None else []\n",
    "\n",
    "\n",
    "print(how_sum_tab(7, [5, 3, 4]))\n",
    "print(how_sum_tab(7, [5, 3, 4, 7]))\n",
    "print(how_sum_tab(7, [2, 4]))\n",
    "print(how_sum_tab(8, [2, 3, 5]))\n",
    "print(how_sum_tab(300, [7, 14]))"
   ],
   "metadata": {
    "collapsed": false
   }
  },
  {
   "cell_type": "code",
   "execution_count": 252,
   "outputs": [
    {
     "name": "stdout",
     "output_type": "stream",
     "text": [
      "[3, 4]\n",
      "[7]\n",
      "[]\n",
      "[3, 5]\n",
      "[]\n",
      "[25, 25, 25, 25]\n"
     ]
    }
   ],
   "source": [
    "from pprint import pprint\n",
    "\n",
    "\n",
    "def best_sum_tab(target: int, numbers: list) -> list:\n",
    "    table = [None for _ in range(target + 1)]\n",
    "    table[0] = []\n",
    "    for i in range(target + 1):\n",
    "        if table[i] is not None:\n",
    "            for n in numbers:\n",
    "                if i + n <= target:\n",
    "                    if (table[i + n] is not None and len(table[i + n]) > len(table[i]) + 1) or \\\n",
    "                            table[i + n] is None:\n",
    "                        arr = table[i].copy()\n",
    "                        arr.append(n)\n",
    "                        table[i + n] = arr\n",
    "                    # elif table[i + n] is None:\n",
    "                    #     arr = table[i].copy()\n",
    "                    #     arr.append(n)\n",
    "                    #     table[i + n] = arr\n",
    "\n",
    "\n",
    "    return table[target] if table[target] is not None else []\n",
    "\n",
    "print(best_sum_tab(7, [5, 3, 4]))\n",
    "print(best_sum_tab(7, [5, 3, 4, 7]))\n",
    "print(best_sum_tab(7, [2, 4]))\n",
    "print(best_sum_tab(8, [2, 3, 5]))\n",
    "print(best_sum_tab(300, [7, 14]))\n",
    "print(best_sum_tab(100, [1, 2, 5, 25]))"
   ],
   "metadata": {
    "collapsed": false
   }
  },
  {
   "cell_type": "code",
   "execution_count": 257,
   "outputs": [
    {
     "name": "stdout",
     "output_type": "stream",
     "text": [
      "True\n",
      "False\n",
      "True\n",
      "False\n"
     ]
    }
   ],
   "source": [
    "from pprint import pprint\n",
    "\n",
    "def can_construct_tab(w: str, alphabet: list) -> bool:\n",
    "    target = len(w)\n",
    "    table = [False for _ in range(len(w) + 1)]\n",
    "    table[0] = True\n",
    "\n",
    "    for i in range(len(w) + 1):\n",
    "        if table[i]:\n",
    "            for l in alphabet:\n",
    "                if i + len(l) <= len(w):\n",
    "                    if w[i:len(w)].startswith(l):\n",
    "                        table[i + len(l)] = True\n",
    "\n",
    "    return table[len(w)]\n",
    "\n",
    "\n",
    "pprint(can_construct_tab(\"abcdef\", [\"ab\", \"cd\", \"abc\", \"def\", \"abcd\"]))\n",
    "pprint(can_construct_tab(\"skateboard\", [\"bo\", \"rd\", \"ate\", \"t\", \"ska\", \"sk\", \"boar\"]))\n",
    "pprint(can_construct_tab(\"enterapotentpot\", [\"a\", \"p\", \"ent\", \"enter\", \"ot\", \"o\", \"t\"]))\n",
    "pprint(can_construct_tab(\"eeeeeeeeeeeeeeeeeeeeeeeeeeeeeeeeeeeeeeeeeeeeeeeeeeeeeeeeeeeeeeeef\", [\"e\", \"eee\", \"eeee\", \"eeeeeee\", \"eeeeeeee\", \"eeeeeeeee\", \"eeeeeeeeee\"]))"
   ],
   "metadata": {
    "collapsed": false
   }
  },
  {
   "cell_type": "code",
   "execution_count": 267,
   "outputs": [
    {
     "name": "stdout",
     "output_type": "stream",
     "text": [
      "2\n",
      "1\n",
      "0\n",
      "4\n",
      "0\n"
     ]
    }
   ],
   "source": [
    "from pprint import pprint\n",
    "\n",
    "def count_construct_tab(w: str, alphabet: list) -> list:\n",
    "    table = [0 for _ in range(len(w) + 1)]\n",
    "    table[0] = 1\n",
    "\n",
    "    for i in range(len(w) + 1):\n",
    "        for l in alphabet:\n",
    "            if i + len(l) <= len(w):\n",
    "                if w[i:len(w)].startswith(l):\n",
    "                    table[i + len(l)] += table[i]\n",
    "\n",
    "    return table[len(w)]\n",
    "\n",
    "\n",
    "pprint(count_construct_tab(\"purple\", [\"purp\", \"p\", \"ur\", \"le\", \"purpl\"]))\n",
    "pprint(count_construct_tab(\"abcdef\", [\"ab\", \"cd\", \"abc\", \"def\", \"abcd\"]))\n",
    "pprint(count_construct_tab(\"skateboard\", [\"bo\", \"rd\", \"ate\", \"t\", \"ska\", \"sk\", \"boar\"]))\n",
    "pprint(count_construct_tab(\"enterapotentpot\", [\"a\", \"p\", \"ent\", \"enter\", \"ot\", \"o\", \"t\"]))\n",
    "pprint(count_construct_tab(\"eeeeeeeeeeeeeeeeeeeeeeeeeeeeeeeeeeeeeeeeeeeeeeeeeeeeeeeeeeeeeeeef\", [\"e\", \"eee\", \"eeee\", \"eeeeeee\", \"eeeeeeee\", \"eeeeeeeee\", \"eeeeeeeeee\"]))"
   ],
   "metadata": {
    "collapsed": false
   }
  },
  {
   "cell_type": "code",
   "execution_count": 6,
   "outputs": [
    {
     "name": "stdout",
     "output_type": "stream",
     "text": [
      "[['purp', 'le'], ['p', 'ur', 'p', 'le']]\n",
      "[['abc', 'def']]\n",
      "[]\n",
      "[['enter', 'a', 'p', 'ot', 'ent', 'p', 'ot'],\n",
      " ['enter', 'a', 'p', 'o', 't', 'ent', 'p', 'ot'],\n",
      " ['enter', 'a', 'p', 'ot', 'ent', 'p', 'o', 't'],\n",
      " ['enter', 'a', 'p', 'o', 't', 'ent', 'p', 'o', 't']]\n",
      "[]\n"
     ]
    }
   ],
   "source": [
    "from pprint import pprint\n",
    "\n",
    "def all_construct_tab(w: str, alphabet: list) -> list:\n",
    "    table = [[] for _ in range(len(w) + 1)]\n",
    "    table[0] = [[]]\n",
    "    for i in range(len(w) + 1):\n",
    "        if len(table[i]) > 0:\n",
    "            for l in alphabet:\n",
    "                if i + len(l) <= len(w):\n",
    "                    if w[i:len(w)].startswith(l):\n",
    "                        arr = [ a.copy() for a in table[i]]\n",
    "                        [a.append(l) for a in arr]\n",
    "                        table[len(l) + i] += arr\n",
    "\n",
    "\n",
    "    return table[len(w)]\n",
    "\n",
    "pprint(all_construct_tab(\"purple\", [\"purp\", \"p\", \"ur\", \"le\", \"purpl\"]))\n",
    "pprint(all_construct_tab(\"abcdef\", [\"ab\", \"cd\", \"abc\", \"def\", \"abcd\"]))\n",
    "pprint(all_construct_tab(\"skateboard\", [\"bo\", \"rd\", \"ate\", \"t\", \"ska\", \"sk\", \"boar\"]))\n",
    "pprint(all_construct_tab(\"enterapotentpot\", [\"a\", \"p\", \"ent\", \"enter\", \"ot\", \"o\", \"t\"]))\n",
    "pprint(all_construct_tab(\"aaaaaaaaaaz\", [\"a\", \"aa\", \"aaa\", \"aaaa\", \"aaaaa\"]))\n",
    "# pprint(all_construct_tab(\"eeeeeeeeeeeeeeeeeeeeeeeeeeeeeeeeeeeeeeeeeeeeeeeeeeeeeeeeeeeeeeeef\", [\"e\", \"eee\", \"eeee\", \"eeeeeee\", \"eeeeeeee\", \"eeeeeeeee\", \"eeeeeeeeee\"]))"
   ],
   "metadata": {
    "collapsed": false
   }
  },
  {
   "cell_type": "code",
   "execution_count": 1,
   "outputs": [
    {
     "ename": "NameError",
     "evalue": "name 'pprint' is not defined",
     "output_type": "error",
     "traceback": [
      "\u001B[0;31m---------------------------------------------------------------------------\u001B[0m",
      "\u001B[0;31mNameError\u001B[0m                                 Traceback (most recent call last)",
      "Cell \u001B[0;32mIn [1], line 9\u001B[0m\n\u001B[1;32m      6\u001B[0m ys \u001B[38;5;241m=\u001B[39m [ a\u001B[38;5;241m.\u001B[39mcopy() \u001B[38;5;28;01mfor\u001B[39;00m a \u001B[38;5;129;01min\u001B[39;00m xs[\u001B[38;5;241m0\u001B[39m]]\n\u001B[1;32m      7\u001B[0m ys[\u001B[38;5;241m0\u001B[39m]\u001B[38;5;241m.\u001B[39mappend(\u001B[38;5;241m9999\u001B[39m)\n\u001B[0;32m----> 9\u001B[0m \u001B[43mpprint\u001B[49m(xs)\n",
      "\u001B[0;31mNameError\u001B[0m: name 'pprint' is not defined"
     ]
    }
   ],
   "source": [
    "xs = [\n",
    "    [[1,2], [3, 4]],\n",
    "    [[11,12], [13, 14]]\n",
    "]\n",
    "\n",
    "ys = [ a.copy() for a in xs[0]]\n",
    "ys[0].append(9999)\n",
    "\n",
    "pprint(xs)"
   ],
   "metadata": {
    "collapsed": false
   }
  },
  {
   "cell_type": "code",
   "execution_count": null,
   "outputs": [],
   "source": [],
   "metadata": {
    "collapsed": false
   }
  }
 ],
 "metadata": {
  "kernelspec": {
   "display_name": "Python 3",
   "language": "python",
   "name": "python3"
  },
  "language_info": {
   "codemirror_mode": {
    "name": "ipython",
    "version": 2
   },
   "file_extension": ".py",
   "mimetype": "text/x-python",
   "name": "python",
   "nbconvert_exporter": "python",
   "pygments_lexer": "ipython2",
   "version": "2.7.6"
  }
 },
 "nbformat": 4,
 "nbformat_minor": 0
}
