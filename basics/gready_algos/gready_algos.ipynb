{
 "cells": [
  {
   "cell_type": "code",
   "execution_count": 3,
   "metadata": {
    "collapsed": true
   },
   "outputs": [
    {
     "data": {
      "text/plain": "1"
     },
     "execution_count": 3,
     "metadata": {},
     "output_type": "execute_result"
    }
   ],
   "source": [
    "import sys\n",
    "\n",
    "def minimumAbsoluteDifference(arr):\n",
    "    copy_arr = sorted(arr)\n",
    "    diff = sys.maxsize\n",
    "    for i in range(1, len(copy_arr)):\n",
    "        tmp_diff = abs(copy_arr[i - 1] - copy_arr[i])\n",
    "        if diff > tmp_diff:\n",
    "            diff = tmp_diff\n",
    "\n",
    "    return diff\n",
    "\n",
    "\n",
    "minimumAbsoluteDifference([3, -7, 0, 11, 2])"
   ]
  },
  {
   "cell_type": "code",
   "execution_count": 4,
   "outputs": [
    {
     "data": {
      "text/plain": "11"
     },
     "execution_count": 4,
     "metadata": {},
     "output_type": "execute_result"
    }
   ],
   "source": [
    "def marcsCakewalk(calorie):\n",
    "    sorted_arr = sorted(calorie, reverse=True)\n",
    "    miles = 0\n",
    "    for i in range(len(sorted_arr)):\n",
    "        miles += 2**i * sorted_arr[i]\n",
    "\n",
    "    return miles\n",
    "\n",
    "marcsCakewalk([1,3,2])"
   ],
   "metadata": {
    "collapsed": false
   }
  },
  {
   "cell_type": "code",
   "execution_count": 11,
   "outputs": [
    {
     "name": "stdout",
     "output_type": "stream",
     "text": [
      "175\n",
      "15\n"
     ]
    }
   ],
   "source": [
    "def highest_product_of_three(arr: list) -> int:\n",
    "    if len(arr) < 3: raise ValueError(\"The array must be at least length of three.\")\n",
    "    arr = sorted(arr)\n",
    "    a = arr[0] * arr[1] * arr[-1]\n",
    "    b = arr[-1] * arr[-2] * arr[-3]\n",
    "\n",
    "    return max(a, b)\n",
    "\n",
    "print(highest_product_of_three([1, 5, 3, 4, 1, 0, -7, -2, -5, -1]))\n",
    "print(highest_product_of_three([1, 5, 3]))\n",
    "# highest_product_of_three([1, 5])"
   ],
   "metadata": {
    "collapsed": false
   }
  },
  {
   "cell_type": "code",
   "execution_count": 18,
   "outputs": [
    {
     "data": {
      "text/plain": "3"
     },
     "execution_count": 18,
     "metadata": {},
     "output_type": "execute_result"
    }
   ],
   "source": [
    "def disjoint_intervals(intervals: list) -> int:\n",
    "    \"\"\"\n",
    "    Maximal set of mutually disjoint intervals\n",
    "    :param intervals: list of intervals\n",
    "    :return: max number disjoint intervals that can be constructed by given input\n",
    "    \"\"\"\n",
    "\n",
    "    intervals = sorted(intervals, key=lambda x: x[1])\n",
    "\n",
    "    r1 = intervals[0][1]\n",
    "    cnt = 1\n",
    "    for i in range(1, len(intervals)):\n",
    "        l1 = intervals[i][0]\n",
    "        r2 = intervals[i][1]\n",
    "\n",
    "        if l1 > r1:\n",
    "            r1 = r2\n",
    "            cnt += 1\n",
    "\n",
    "    return cnt\n",
    "\n",
    "disjoint_intervals([[1, 2], [2, 10], [4, 6]])\n",
    "disjoint_intervals([[1, 2], [2, 10], [4, 6], [7, 10]])"
   ],
   "metadata": {
    "collapsed": false
   }
  },
  {
   "cell_type": "code",
   "execution_count": 20,
   "outputs": [
    {
     "name": "stdout",
     "output_type": "stream",
     "text": [
      "[[1, 2], [4, 6]]\n",
      "[[1, 2], [4, 6], [7, 10]]\n"
     ]
    }
   ],
   "source": [
    "from pprint import pprint\n",
    "\n",
    "def disjoint_intervals_all(intervals: list) -> list:\n",
    "    \"\"\"\n",
    "    Maximal set of mutually disjoint intervals\n",
    "    :param intervals: list of intervals\n",
    "    :return: max number disjoint intervals that can be constructed by given input\n",
    "    \"\"\"\n",
    "\n",
    "    intervals = sorted(intervals, key=lambda x: x[1])\n",
    "\n",
    "    r1 = intervals[0][1]\n",
    "    result = [intervals[0]]\n",
    "    for i in range(1, len(intervals)):\n",
    "        l1 = intervals[i][0]\n",
    "        r2 = intervals[i][1]\n",
    "\n",
    "        if l1 > r1:\n",
    "            r1 = r2\n",
    "            result.append(intervals[i])\n",
    "\n",
    "    return result\n",
    "\n",
    "pprint(disjoint_intervals_all([[1, 2], [2, 10], [4, 6]]))\n",
    "pprint(disjoint_intervals_all([[1, 2], [2, 10], [4, 6], [7, 10]]))"
   ],
   "metadata": {
    "collapsed": false
   }
  },
  {
   "cell_type": "code",
   "execution_count": 28,
   "outputs": [
    {
     "name": "stdout",
     "output_type": "stream",
     "text": [
      "0\n",
      "1\n",
      "2\n",
      "[7, 6, 5, 1, 4, 2, 3]\n"
     ]
    }
   ],
   "source": [
    "def largest_permutation(a: list, b: int) -> int:\n",
    "    for i in range(b):\n",
    "        largest_idx = i\n",
    "        print(i)\n",
    "        for j in range(i, len(a)):\n",
    "            if a[j] > a[largest_idx]:\n",
    "                largest_idx = j\n",
    "\n",
    "        tmp = a[i]\n",
    "        a[i] = a[largest_idx]\n",
    "        a[largest_idx] = tmp\n",
    "\n",
    "    return a\n",
    "\n",
    "print(largest_permutation([3, 2, 4, 1, 5, 6, 7], 3))"
   ],
   "metadata": {
    "collapsed": false
   }
  },
  {
   "cell_type": "code",
   "execution_count": 1,
   "outputs": [
    {
     "data": {
      "text/plain": "3"
     },
     "execution_count": 1,
     "metadata": {},
     "output_type": "execute_result"
    }
   ],
   "source": [
    "def meetings_rooms(intervals: list) -> int:\n",
    "    sub_result = []\n",
    "    for s, e in intervals:\n",
    "        sub_result.append((s, 1))\n",
    "        sub_result.append((e, -1))\n",
    "\n",
    "    sub_result = sorted(sub_result, key=lambda sr: sr[0])\n",
    "\n",
    "    max_result = 0\n",
    "    actual_result = 0\n",
    "    for _, n in sub_result:\n",
    "        actual_result += n\n",
    "        if actual_result > max_result:\n",
    "            max_result = actual_result\n",
    "\n",
    "    return max_result\n",
    "\n",
    "meetings_rooms([[5, 10], [15, 20], [0, 30], [3, 27]])"
   ],
   "metadata": {
    "collapsed": false
   }
  },
  {
   "cell_type": "code",
   "execution_count": null,
   "outputs": [],
   "source": [],
   "metadata": {
    "collapsed": false
   }
  }
 ],
 "metadata": {
  "kernelspec": {
   "display_name": "Python 3",
   "language": "python",
   "name": "python3"
  },
  "language_info": {
   "codemirror_mode": {
    "name": "ipython",
    "version": 2
   },
   "file_extension": ".py",
   "mimetype": "text/x-python",
   "name": "python",
   "nbconvert_exporter": "python",
   "pygments_lexer": "ipython2",
   "version": "2.7.6"
  }
 },
 "nbformat": 4,
 "nbformat_minor": 0
}
