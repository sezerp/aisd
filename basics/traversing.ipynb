{
 "cells": [
  {
   "cell_type": "markdown",
   "source": [
    "## Breath First Search"
   ],
   "metadata": {
    "collapsed": false
   }
  },
  {
   "cell_type": "code",
   "execution_count": 133,
   "outputs": [
    {
     "data": {
      "text/plain": "{'a': ['b', 'c'],\n 'b': ['a', 'd'],\n 'c': ['a', 'd'],\n 'd': ['b', 'c', 'e'],\n 'e': ['d']}"
     },
     "execution_count": 133,
     "metadata": {},
     "output_type": "execute_result"
    }
   ],
   "source": [
    "from collections import defaultdict\n",
    "\n",
    "graph = {}\n",
    "graph['a'] = ['b', 'c']\n",
    "graph['b'] = ['a', 'd']\n",
    "graph['c'] = ['a', 'd']\n",
    "graph['d'] = ['b', 'c', 'e']\n",
    "graph['e'] = ['d']\n",
    "\n",
    "graph"
   ],
   "metadata": {
    "collapsed": false
   }
  },
  {
   "cell_type": "code",
   "execution_count": 138,
   "outputs": [],
   "source": [
    "def bfs_connected_graph(graph: dict):\n",
    "    if len(graph) == 0:\n",
    "        return []\n",
    "    start = next(iter(graph))\n",
    "    queue = [start]\n",
    "    visited = {start}\n",
    "    while queue:\n",
    "        s = queue.pop(0)\n",
    "        print(s, end=' ')\n",
    "        for n in graph[s]:\n",
    "            if n not in visited:\n",
    "                queue.append(n)\n",
    "                visited.add(n)\n",
    "\n",
    "def bfs(graph: dict):\n",
    "    visited = set([])\n",
    "    for v in graph:\n",
    "        if v not in visited:\n",
    "            queue = [v]\n",
    "            visited.add(v)\n",
    "            while queue:\n",
    "                s = queue.pop(0)\n",
    "                print(s, end=' ')\n",
    "                for n in graph[s]:\n",
    "                    if n not in visited:\n",
    "                        queue.append(n)\n",
    "                        visited.add(n)"
   ],
   "metadata": {
    "collapsed": false
   }
  },
  {
   "cell_type": "code",
   "execution_count": 139,
   "outputs": [
    {
     "name": "stdout",
     "output_type": "stream",
     "text": [
      "a b c d e "
     ]
    }
   ],
   "source": [
    "bfs(graph) # a b c d e"
   ],
   "metadata": {
    "collapsed": false
   }
  },
  {
   "cell_type": "code",
   "execution_count": 124,
   "outputs": [],
   "source": [
    "def dsf_connected_graph(graph: dict, u=None):\n",
    "    if u is not None and u not in graph:\n",
    "        raise KeyError(f\"The node: '{u}' is not a part of given graph\")\n",
    "    if len(graph) == 0:\n",
    "        return\n",
    "    start = next(iter(graph)) if u is None else u\n",
    "    stack = [start]\n",
    "    visited = {start}\n",
    "    while stack:\n",
    "        s = stack.pop()\n",
    "        print(s, end=' ')\n",
    "        for n in graph[s]:\n",
    "            if n not in visited:\n",
    "                stack.append(n)\n",
    "                visited.add(n)\n",
    "\n",
    "def dfs(graph: dict):\n",
    "    if len(graph) == 0:\n",
    "        return\n",
    "    visited= set([])\n",
    "    for v in graph:\n",
    "        if v not in visited:\n",
    "            stack = [v]\n",
    "            while stack:\n",
    "                s = stack.pop()\n",
    "                visited.add(s)\n",
    "                print(s, end=' ')\n",
    "                for n in graph[s]:\n",
    "                    if n not in visited:\n",
    "                        stack.append(n)\n",
    "                        visited.add(n)"
   ],
   "metadata": {
    "collapsed": false
   }
  },
  {
   "cell_type": "code",
   "execution_count": 127,
   "outputs": [
    {
     "name": "stdout",
     "output_type": "stream",
     "text": [
      "a c d e b \n",
      "a c d e b "
     ]
    }
   ],
   "source": [
    "dsf_connected_graph(graph)\n",
    "print('')\n",
    "dfs(graph)"
   ],
   "metadata": {
    "collapsed": false
   }
  },
  {
   "cell_type": "code",
   "execution_count": 128,
   "outputs": [
    {
     "name": "stdout",
     "output_type": "stream",
     "text": [
      "a c b d e g f "
     ]
    }
   ],
   "source": [
    "not_connected_graph = {}\n",
    "not_connected_graph['a'] = ['b', 'c']\n",
    "not_connected_graph['b'] = ['a', 'd']\n",
    "not_connected_graph['c'] = ['a']\n",
    "not_connected_graph['d'] = ['b']\n",
    "not_connected_graph['e'] = ['f', 'g']\n",
    "not_connected_graph['f'] = ['e']\n",
    "not_connected_graph['g'] = ['e']\n",
    "\n",
    "dfs(not_connected_graph)"
   ],
   "metadata": {
    "collapsed": false
   }
  }
 ],
 "metadata": {
  "kernelspec": {
   "display_name": "Python 3",
   "language": "python",
   "name": "python3"
  },
  "language_info": {
   "codemirror_mode": {
    "name": "ipython",
    "version": 2
   },
   "file_extension": ".py",
   "mimetype": "text/x-python",
   "name": "python",
   "nbconvert_exporter": "python",
   "pygments_lexer": "ipython2",
   "version": "2.7.6"
  }
 },
 "nbformat": 4,
 "nbformat_minor": 0
}
