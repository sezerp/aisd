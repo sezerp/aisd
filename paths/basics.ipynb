{
 "cells": [
  {
   "cell_type": "code",
   "execution_count": 28,
   "metadata": {
    "collapsed": true
   },
   "outputs": [],
   "source": [
    "g = {}\n",
    "g['a'] = ['b', 'c']\n",
    "g['b'] = ['a', 'd']\n",
    "g['c'] = ['a', 'd']\n",
    "g['d'] = ['b', 'c', 'e']\n",
    "g['e'] = ['d']"
   ]
  },
  {
   "cell_type": "code",
   "execution_count": 29,
   "outputs": [],
   "source": [
    "def basic_find_path(graph: dict, src: str, dst: str):\n",
    "    visited = {src}\n",
    "    stack = [src]\n",
    "    trace_stack = []\n",
    "    while stack:\n",
    "        u = stack.pop()\n",
    "        trace_stack.append(u)\n",
    "        print(u, end = ' ')\n",
    "        for v in graph[u]:\n",
    "            if v == dst:\n",
    "                trace_stack.append(v)\n",
    "                return trace_stack\n",
    "            elif v not in visited:\n",
    "                stack.append(v)\n",
    "                visited.add(v)\n",
    "\n",
    "    return []"
   ],
   "metadata": {
    "collapsed": false
   }
  },
  {
   "cell_type": "code",
   "execution_count": 30,
   "outputs": [
    {
     "name": "stdout",
     "output_type": "stream",
     "text": [
      "e d "
     ]
    },
    {
     "data": {
      "text/plain": "['e', 'd', 'b']"
     },
     "execution_count": 30,
     "metadata": {},
     "output_type": "execute_result"
    }
   ],
   "source": [
    "basic_find_path(g, 'e', 'b')"
   ],
   "metadata": {
    "collapsed": false
   }
  },
  {
   "cell_type": "code",
   "execution_count": 33,
   "outputs": [],
   "source": [
    "def find_all_paths(graph: dict, src: str, dst: str)-> list:\n",
    "    visited = {src}\n",
    "    stack = [src]\n",
    "    stack_trace = []\n",
    "    result = []\n",
    "    while stack:\n",
    "        u = stack.pop()\n",
    "        stack_trace.append(u)\n",
    "        for v in graph[u]:\n",
    "            if v == dst:\n",
    "                stack_trace.append(v)\n",
    "                result.append(stack_trace)\n",
    "                stack_trace = [src]\n",
    "            elif v not in visited:\n",
    "                stack.append(v)\n",
    "                visited.add(v)\n",
    "\n",
    "    return result"
   ],
   "metadata": {
    "collapsed": false
   }
  },
  {
   "cell_type": "code",
   "execution_count": 34,
   "outputs": [
    {
     "data": {
      "text/plain": "[['a', 'c', 'd'], ['b', 'd']]"
     },
     "execution_count": 34,
     "metadata": {},
     "output_type": "execute_result"
    }
   ],
   "source": [
    "find_all_paths(g, 'a', 'd')"
   ],
   "metadata": {
    "collapsed": false
   }
  },
  {
   "cell_type": "code",
   "execution_count": null,
   "outputs": [],
   "source": [],
   "metadata": {
    "collapsed": false
   }
  }
 ],
 "metadata": {
  "kernelspec": {
   "display_name": "Python 3",
   "language": "python",
   "name": "python3"
  },
  "language_info": {
   "codemirror_mode": {
    "name": "ipython",
    "version": 2
   },
   "file_extension": ".py",
   "mimetype": "text/x-python",
   "name": "python",
   "nbconvert_exporter": "python",
   "pygments_lexer": "ipython2",
   "version": "2.7.6"
  }
 },
 "nbformat": 4,
 "nbformat_minor": 0
}
