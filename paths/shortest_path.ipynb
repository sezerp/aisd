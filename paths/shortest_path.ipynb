{
 "cells": [
  {
   "cell_type": "markdown",
   "source": [
    "### Undirected graphs"
   ],
   "metadata": {
    "collapsed": false
   }
  },
  {
   "cell_type": "code",
   "execution_count": 64,
   "outputs": [],
   "source": [
    "from collections import deque\n",
    "\n",
    "def shortest_path(graph: dict, src: str, dst: str):\n",
    "    \"\"\"\n",
    "    :param graph: graph represented as dictionary where key\n",
    "    :param src: place from where path should be\n",
    "    :param dst: place where path should follow\n",
    "    :return: the exact list of nodes in shorthest path\n",
    "    \"\"\"\n",
    "    queue = deque([[src]])\n",
    "    visited = set([])\n",
    "\n",
    "    while queue:\n",
    "        path = queue.popleft()\n",
    "        u = path[-1]\n",
    "        visited.add(u)\n",
    "        for v in graph[u]:\n",
    "            if v == dst:\n",
    "                path.append(v)\n",
    "                return path\n",
    "            elif v not in visited:\n",
    "                new_path = list(path)\n",
    "                new_path.append(v)\n",
    "                visited.add(v)\n",
    "                queue.append(new_path)\n",
    "\n",
    "    return []"
   ],
   "metadata": {
    "collapsed": false
   }
  },
  {
   "cell_type": "code",
   "execution_count": 65,
   "outputs": [
    {
     "data": {
      "text/plain": "['a', 'c', 'f']"
     },
     "execution_count": 65,
     "metadata": {},
     "output_type": "execute_result"
    }
   ],
   "source": [
    "g = {}\n",
    "g['a'] = ['b', 'c']\n",
    "g['b'] = ['a', 'd']\n",
    "g['c'] = ['a', 'f']\n",
    "g['d'] = ['b', 'e']\n",
    "g['e'] = ['d', 'f']\n",
    "g['f'] = ['c', 'f']\n",
    "\n",
    "shortest_path(g, 'a', 'f')"
   ],
   "metadata": {
    "collapsed": false
   }
  },
  {
   "cell_type": "code",
   "execution_count": null,
   "outputs": [],
   "source": [],
   "metadata": {
    "collapsed": false
   }
  }
 ],
 "metadata": {
  "kernelspec": {
   "display_name": "Python 3",
   "language": "python",
   "name": "python3"
  },
  "language_info": {
   "codemirror_mode": {
    "name": "ipython",
    "version": 2
   },
   "file_extension": ".py",
   "mimetype": "text/x-python",
   "name": "python",
   "nbconvert_exporter": "python",
   "pygments_lexer": "ipython2",
   "version": "2.7.6"
  }
 },
 "nbformat": 4,
 "nbformat_minor": 0
}
