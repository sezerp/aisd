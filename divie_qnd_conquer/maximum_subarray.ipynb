{
 "cells": [
  {
   "cell_type": "markdown",
   "source": [
    "## The maximum-subarray problem\n",
    "Suppose that you been offered the opportunity to invest in the Volatile Chemical\n",
    "Corporation. Like the chemicals the company produces, the stock price of the\n",
    "Volatile Chemical Corporation is rather volatile. You are allowed to buy one unit\n",
    "of stock only one time and then sell it at a later date, buying and selling after the\n",
    "close of trading for the day. To compensate for this restriction, you are allowed to\n",
    "learn what the price of the stock will be in the future. Your goal is to maximize\n",
    "your proﬁt. Figure 4.1 shows the price of the stock over a 17-day period. You\n",
    "may buy the stock at any one time, starting after day 0, when the price is $100\n",
    "per share. Of course, you would want to “buy low, sell high”—buy at the lowest\n",
    "possible price and later on sell at the highest possible price—to maximize your\n",
    "proﬁt. Unfortunately, you might not be able to buy at the lowest price and then sell\n",
    "at the highest price within a given period. In Figure 4.1, the lowest price occurs\n",
    "after day 7, which occurs after the highest price, after day 1."
   ],
   "metadata": {
    "collapsed": false
   }
  },
  {
   "cell_type": "code",
   "execution_count": 7,
   "outputs": [],
   "source": [
    "from sys import maxsize\n",
    "\n",
    "def brute_force(arr: list):\n",
    "    L = len(arr)\n",
    "    s = -maxsize - 1\n",
    "    b_idx = -1\n",
    "    s_idx = -1\n",
    "    for i in range(L):\n",
    "        b = arr[i]\n",
    "        for j in range(i + 1, L):\n",
    "            if (arr[j] - b) > s:\n",
    "                s = arr[j] - b\n",
    "                b_idx = i\n",
    "                s_idx = j\n",
    "\n",
    "    return b_idx, s_idx, s"
   ],
   "metadata": {
    "collapsed": false
   }
  },
  {
   "cell_type": "code",
   "execution_count": 8,
   "outputs": [
    {
     "data": {
      "text/plain": "(7, 11, 43)"
     },
     "execution_count": 8,
     "metadata": {},
     "output_type": "execute_result"
    }
   ],
   "source": [
    "brute_force([100, 113, 110, 85, 105, 102, 86, 63, 81, 101, 94, 106, 101, 79, 94, 90, 97])"
   ],
   "metadata": {
    "collapsed": false
   }
  },
  {
   "cell_type": "code",
   "execution_count": 45,
   "outputs": [],
   "source": [
    "def max_subarray(xs: list):\n",
    "    def transform(arr: list) -> list:\n",
    "        result = [0] * len(arr)\n",
    "        for i in range(1, len(arr)):\n",
    "            result[i - 1] = arr[i] - arr[i - 1]\n",
    "\n",
    "        return result\n",
    "\n",
    "    def max_cross_sub_arr(arr, p, q, h):\n",
    "        max_left_idx = -1\n",
    "        left_sum = -maxsize - 1\n",
    "        s = 0\n",
    "        for i in range(q, p, -1):\n",
    "            s += arr[i]\n",
    "            if s > left_sum:\n",
    "                left_sum = s\n",
    "                max_left_idx = i\n",
    "\n",
    "        max_right_idx = -1\n",
    "        right_sum = -maxsize - 1\n",
    "        s = 0\n",
    "        for i in range(q + 1, h):\n",
    "            s += arr[i]\n",
    "            if s > right_sum:\n",
    "                right_sum = s\n",
    "                max_right_idx = i\n",
    "\n",
    "        return max_left_idx, max_right_idx, left_sum + right_sum\n",
    "\n",
    "    def max_sub_arr_rec(arr: list, low_idx: int, high_idx: int):\n",
    "        if low_idx == high_idx:\n",
    "            return low_idx, high_idx, arr[low_idx]\n",
    "\n",
    "        mid_idx = (low_idx + high_idx) // 2\n",
    "\n",
    "        left_low, left_high, left_sum = max_sub_arr_rec(arr, low_idx, mid_idx)\n",
    "        right_low, right_high, right_sum = max_sub_arr_rec(arr, mid_idx + 1, high_idx)\n",
    "        cross_left_idx, cross_right_idx, cross_sum = max_cross_sub_arr(arr, low_idx, mid_idx, high_idx)\n",
    "\n",
    "        if left_sum >= right_sum and left_sum >= cross_sum:\n",
    "            return left_low, left_high, left_sum\n",
    "        elif right_sum >= left_sum and right_sum >= cross_sum:\n",
    "            return right_low, right_high, right_sum\n",
    "        else:\n",
    "            return cross_left_idx, cross_right_idx, cross_sum\n",
    "\n",
    "    return max_sub_arr_rec(transform(xs), 0, len(xs) - 1)"
   ],
   "metadata": {
    "collapsed": false
   }
  },
  {
   "cell_type": "code",
   "execution_count": 46,
   "outputs": [
    {
     "data": {
      "text/plain": "(7, 10, 43)"
     },
     "execution_count": 46,
     "metadata": {},
     "output_type": "execute_result"
    }
   ],
   "source": [
    "# [13, -3, -25, 20, -3, -16, -23, 18, 20, -7, 12, -5, -22, 15, -4, 7, 0]\n",
    "max_subarray([100, 113, 110, 85, 105, 102, 86, 63, 81, 101, 94, 106, 101, 79, 94, 90, 97])"
   ],
   "metadata": {
    "collapsed": false
   }
  },
  {
   "cell_type": "code",
   "execution_count": 47,
   "outputs": [],
   "source": [
    "from sys import maxsize\n",
    "\n",
    "def max_sub_array_sum(a, size):\n",
    "\n",
    "    max_sum = -maxsize - 1\n",
    "    max_actual = 0\n",
    "    start_idx = 0\n",
    "    end_idx = 0\n",
    "    next_idx = 0\n",
    "\n",
    "    for i in range(0, size):\n",
    "\n",
    "        max_actual += a[i]\n",
    "\n",
    "        if max_sum < max_actual:\n",
    "            max_sum = max_actual\n",
    "            start_idx = next_idx\n",
    "            end_idx = i\n",
    "\n",
    "        if max_actual < 0:\n",
    "            max_actual = 0\n",
    "            next_idx = i + 1\n",
    "\n",
    "    return start_idx, end_idx, max_sum\n",
    "\n",
    "\n",
    "def transform(arr: list) -> list:\n",
    "    result = [0] * len(arr)\n",
    "    for i in range(1, len(arr)):\n",
    "        result[i - 1] = arr[i] - arr[i - 1]\n",
    "\n",
    "    return result\n"
   ],
   "metadata": {
    "collapsed": false
   }
  },
  {
   "cell_type": "code",
   "execution_count": 48,
   "outputs": [
    {
     "data": {
      "text/plain": "(7, 10, 43)"
     },
     "execution_count": 48,
     "metadata": {},
     "output_type": "execute_result"
    }
   ],
   "source": [
    "a = transform([100, 113, 110, 85, 105, 102, 86, 63, 81, 101, 94, 106, 101, 79, 94, 90, 97])\n",
    "max_sub_array_sum(a, len(a))"
   ],
   "metadata": {
    "collapsed": false
   }
  },
  {
   "cell_type": "code",
   "execution_count": null,
   "outputs": [],
   "source": [],
   "metadata": {
    "collapsed": false
   }
  }
 ],
 "metadata": {
  "kernelspec": {
   "display_name": "Python 3",
   "language": "python",
   "name": "python3"
  },
  "language_info": {
   "codemirror_mode": {
    "name": "ipython",
    "version": 2
   },
   "file_extension": ".py",
   "mimetype": "text/x-python",
   "name": "python",
   "nbconvert_exporter": "python",
   "pygments_lexer": "ipython2",
   "version": "2.7.6"
  }
 },
 "nbformat": 4,
 "nbformat_minor": 0
}
